{
 "cells": [
  {
   "cell_type": "code",
   "execution_count": 1,
   "id": "753660d8",
   "metadata": {},
   "outputs": [
    {
     "name": "stderr",
     "output_type": "stream",
     "text": [
      "[nltk_data] Downloading package stopwords to\n",
      "[nltk_data]     /Users/shaurya/nltk_data...\n",
      "[nltk_data]   Unzipping corpora/stopwords.zip.\n",
      "[nltk_data] Downloading package wordnet to /Users/shaurya/nltk_data...\n",
      "[nltk_data]   Unzipping corpora/wordnet.zip.\n"
     ]
    }
   ],
   "source": [
    "import pandas as pd\n",
    "import seaborn as sns\n",
    "import gc\n",
    "from sklearn.model_selection import train_test_split\n",
    "from sklearn.feature_extraction.text import TfidfVectorizer\n",
    "from nltk.corpus import stopwords\n",
    "import nltk\n",
    "nltk.download('stopwords')\n",
    "nltk.download('wordnet')\n",
    "import pickle"
   ]
  },
  {
   "cell_type": "code",
   "execution_count": 2,
   "id": "5d1594e7",
   "metadata": {},
   "outputs": [],
   "source": [
    "# read in pickles created in ./notebooks/data_download.ipynb\n",
    "df = pd.read_pickle('./data/master_data.pkl') # data with the patent claims\n",
    "df_pats_w_sectors = pd.read_pickle('./data/pats_w_sectors.pkl') # data with the classifications"
   ]
  },
  {
   "cell_type": "code",
   "execution_count": 3,
   "id": "4a8b5509",
   "metadata": {},
   "outputs": [],
   "source": [
    "def merge_and_clean(df1, df2):\n",
    "    '''\n",
    "    Given two dataframes for my data, rename columns and merge data\n",
    "    \n",
    "    Parameters: \n",
    "    df1: \n",
    "    df2: \n",
    "    \n",
    "    Returns:\n",
    "    df: dataframe with the data downloaded and unzipped\n",
    "    \n",
    "    '''\n",
    "    df1 = df1.drop(['field_title'], axis=1)\n",
    "    df1 = df1.drop_duplicates()\n",
    "    groups = df1.groupby(by='patent_id').count()\n",
    "    singles = groups[groups.sector_title == 1]\n",
    "    singles = singles.reset_index()\n",
    "    ok_pats = df1.merge(singles, on='patent_id')\n",
    "    ok_pats = ok_pats.drop(['sector_title_y'], axis=1)\n",
    "    ok_pats = ok_pats.rename(columns={'sector_title_x':'sector'})\n",
    "    ok_pats.patent_id = ok_pats.patent_id.astype('int64')\n",
    "    df_merged = ok_pats.merge(df2, how='inner', on='patent_id')\n",
    "    return df_merged"
   ]
  },
  {
   "cell_type": "code",
   "execution_count": 4,
   "id": "a2574d71",
   "metadata": {},
   "outputs": [],
   "source": [
    "df_master = merge_and_clean(df_pats_w_sectors, df)"
   ]
  },
  {
   "cell_type": "code",
   "execution_count": 5,
   "id": "d4d2c4cc",
   "metadata": {},
   "outputs": [
    {
     "data": {
      "text/html": [
       "<div>\n",
       "<style scoped>\n",
       "    .dataframe tbody tr th:only-of-type {\n",
       "        vertical-align: middle;\n",
       "    }\n",
       "\n",
       "    .dataframe tbody tr th {\n",
       "        vertical-align: top;\n",
       "    }\n",
       "\n",
       "    .dataframe thead th {\n",
       "        text-align: right;\n",
       "    }\n",
       "</style>\n",
       "<table border=\"1\" class=\"dataframe\">\n",
       "  <thead>\n",
       "    <tr style=\"text-align: right;\">\n",
       "      <th></th>\n",
       "      <th>patent_id</th>\n",
       "      <th>sector</th>\n",
       "      <th>text</th>\n",
       "    </tr>\n",
       "  </thead>\n",
       "  <tbody>\n",
       "    <tr>\n",
       "      <th>0</th>\n",
       "      <td>10001556</td>\n",
       "      <td>Instruments</td>\n",
       "      <td>1. An FMCW radar apparatus comprising: a trans...</td>\n",
       "    </tr>\n",
       "    <tr>\n",
       "      <th>1</th>\n",
       "      <td>10001557</td>\n",
       "      <td>Instruments</td>\n",
       "      <td>1. A state recognizing device for recognizing ...</td>\n",
       "    </tr>\n",
       "    <tr>\n",
       "      <th>2</th>\n",
       "      <td>10001558</td>\n",
       "      <td>Instruments</td>\n",
       "      <td>1. A fill level measurement device, comprising...</td>\n",
       "    </tr>\n",
       "    <tr>\n",
       "      <th>3</th>\n",
       "      <td>10001559</td>\n",
       "      <td>Instruments</td>\n",
       "      <td>1. A method for detecting a concealed object i...</td>\n",
       "    </tr>\n",
       "    <tr>\n",
       "      <th>4</th>\n",
       "      <td>10001562</td>\n",
       "      <td>Instruments</td>\n",
       "      <td>1. A distance-settable photoelectric sensor, c...</td>\n",
       "    </tr>\n",
       "    <tr>\n",
       "      <th>...</th>\n",
       "      <td>...</td>\n",
       "      <td>...</td>\n",
       "      <td>...</td>\n",
       "    </tr>\n",
       "    <tr>\n",
       "      <th>1679378</th>\n",
       "      <td>9998144</td>\n",
       "      <td>Electrical engineering</td>\n",
       "      <td>1. A computer program product for generating a...</td>\n",
       "    </tr>\n",
       "    <tr>\n",
       "      <th>1679379</th>\n",
       "      <td>9998146</td>\n",
       "      <td>Electrical engineering</td>\n",
       "      <td>1. A communications method comprising: an emul...</td>\n",
       "    </tr>\n",
       "    <tr>\n",
       "      <th>1679380</th>\n",
       "      <td>9998148</td>\n",
       "      <td>Electrical engineering</td>\n",
       "      <td>1. An apparatus for decoding, comprising: a me...</td>\n",
       "    </tr>\n",
       "    <tr>\n",
       "      <th>1679381</th>\n",
       "      <td>9998149</td>\n",
       "      <td>Electrical engineering</td>\n",
       "      <td>1. A process comprising: (a.) receiving a data...</td>\n",
       "    </tr>\n",
       "    <tr>\n",
       "      <th>1679382</th>\n",
       "      <td>9998162</td>\n",
       "      <td>Electrical engineering</td>\n",
       "      <td>1. An apparatus comprising: capacitor circuitr...</td>\n",
       "    </tr>\n",
       "  </tbody>\n",
       "</table>\n",
       "<p>1598091 rows × 3 columns</p>\n",
       "</div>"
      ],
      "text/plain": [
       "         patent_id                  sector  \\\n",
       "0         10001556             Instruments   \n",
       "1         10001557             Instruments   \n",
       "2         10001558             Instruments   \n",
       "3         10001559             Instruments   \n",
       "4         10001562             Instruments   \n",
       "...            ...                     ...   \n",
       "1679378    9998144  Electrical engineering   \n",
       "1679379    9998146  Electrical engineering   \n",
       "1679380    9998148  Electrical engineering   \n",
       "1679381    9998149  Electrical engineering   \n",
       "1679382    9998162  Electrical engineering   \n",
       "\n",
       "                                                      text  \n",
       "0        1. An FMCW radar apparatus comprising: a trans...  \n",
       "1        1. A state recognizing device for recognizing ...  \n",
       "2        1. A fill level measurement device, comprising...  \n",
       "3        1. A method for detecting a concealed object i...  \n",
       "4        1. A distance-settable photoelectric sensor, c...  \n",
       "...                                                    ...  \n",
       "1679378  1. A computer program product for generating a...  \n",
       "1679379  1. A communications method comprising: an emul...  \n",
       "1679380  1. An apparatus for decoding, comprising: a me...  \n",
       "1679381  1. A process comprising: (a.) receiving a data...  \n",
       "1679382  1. An apparatus comprising: capacitor circuitr...  \n",
       "\n",
       "[1598091 rows x 3 columns]"
      ]
     },
     "execution_count": 5,
     "metadata": {},
     "output_type": "execute_result"
    }
   ],
   "source": [
    "# Drop \"other fiends\" classification since I'm treating this as a lack of a classification\n",
    "df_master = df_master[df_master.sector!='Other fields']\n",
    "df_master"
   ]
  },
  {
   "cell_type": "code",
   "execution_count": 36,
   "id": "696fdf6b",
   "metadata": {},
   "outputs": [
    {
     "data": {
      "text/plain": [
       "'1. An FMCW radar apparatus comprising: a transmission unit that transmits a transmission signal including a first frequency-rise time period whose frequency sequentially rises with a first modulated gradient, a first frequency-fall time period whose frequency sequentially falls with the first modulated gradient, a second frequency-rise time period whose frequency sequentially rises with a second modulated gradient different from the first modulated gradient, and a second frequency-fall time period whose frequency sequentially falls with the second modulated gradient; a reception unit that receives a reception signal resulting from reflection of the transmission signal by a target and outputs beat signals based on the transmission signal and the reception signal; a control unit that detects a target on the basis of the beat signals; and a power supply bias circuit that supplies power-supply voltage to at least the transmission unit and the control unit, among the transmission unit, the reception unit and the control unit, wherein: the control unit includes: acquiring means for acquiring the beat signals outputted by the reception unit; a peak frequency specifying means for specifying frequencies of a plurality of peaks respectively for the first frequency-rise time period, the first frequency-fall time period, the second frequency-rise time period and the second frequency-fall time period of the beat signals acquired by the acquiring means; oscillation determining means for determining whether or not oscillation conditions are satisfied; and notifying means for notifying occurrence of oscillation in the power supply bias circuit on the basis of a determination that the oscillation conditions are satisfied, the determination being made by the oscillation determining means; and the oscillation determining means uses, as objects, the plurality of peaks specified by the peak frequency specifying means to determine that the oscillation conditions are satisfied, on the basis that, of groups each of which is formed by extracting peaks in a manner of extracting one from each of the first frequency-rise time period, the first frequency-fall time period, the second frequency-rise time period and the second frequency-fall time period, there is a group in which all peaks of the group are within the same frequency range.'"
      ]
     },
     "execution_count": 36,
     "metadata": {},
     "output_type": "execute_result"
    }
   ],
   "source": [
    "df_master[\"text\"][0]"
   ]
  },
  {
   "cell_type": "code",
   "execution_count": 6,
   "id": "b14f94c7",
   "metadata": {},
   "outputs": [],
   "source": [
    "df = df_master"
   ]
  },
  {
   "cell_type": "code",
   "execution_count": 7,
   "id": "951b87d5",
   "metadata": {},
   "outputs": [
    {
     "data": {
      "text/html": [
       "<div>\n",
       "<style scoped>\n",
       "    .dataframe tbody tr th:only-of-type {\n",
       "        vertical-align: middle;\n",
       "    }\n",
       "\n",
       "    .dataframe tbody tr th {\n",
       "        vertical-align: top;\n",
       "    }\n",
       "\n",
       "    .dataframe thead th {\n",
       "        text-align: right;\n",
       "    }\n",
       "</style>\n",
       "<table border=\"1\" class=\"dataframe\">\n",
       "  <thead>\n",
       "    <tr style=\"text-align: right;\">\n",
       "      <th></th>\n",
       "      <th>patent_id</th>\n",
       "      <th>sector</th>\n",
       "      <th>text</th>\n",
       "    </tr>\n",
       "  </thead>\n",
       "  <tbody>\n",
       "    <tr>\n",
       "      <th>0</th>\n",
       "      <td>10001556</td>\n",
       "      <td>Instruments</td>\n",
       "      <td>1. An FMCW radar apparatus comprising: a trans...</td>\n",
       "    </tr>\n",
       "    <tr>\n",
       "      <th>1</th>\n",
       "      <td>10001557</td>\n",
       "      <td>Instruments</td>\n",
       "      <td>1. A state recognizing device for recognizing ...</td>\n",
       "    </tr>\n",
       "    <tr>\n",
       "      <th>2</th>\n",
       "      <td>10001558</td>\n",
       "      <td>Instruments</td>\n",
       "      <td>1. A fill level measurement device, comprising...</td>\n",
       "    </tr>\n",
       "    <tr>\n",
       "      <th>3</th>\n",
       "      <td>10001559</td>\n",
       "      <td>Instruments</td>\n",
       "      <td>1. A method for detecting a concealed object i...</td>\n",
       "    </tr>\n",
       "    <tr>\n",
       "      <th>4</th>\n",
       "      <td>10001562</td>\n",
       "      <td>Instruments</td>\n",
       "      <td>1. A distance-settable photoelectric sensor, c...</td>\n",
       "    </tr>\n",
       "  </tbody>\n",
       "</table>\n",
       "</div>"
      ],
      "text/plain": [
       "   patent_id       sector                                               text\n",
       "0   10001556  Instruments  1. An FMCW radar apparatus comprising: a trans...\n",
       "1   10001557  Instruments  1. A state recognizing device for recognizing ...\n",
       "2   10001558  Instruments  1. A fill level measurement device, comprising...\n",
       "3   10001559  Instruments  1. A method for detecting a concealed object i...\n",
       "4   10001562  Instruments  1. A distance-settable photoelectric sensor, c..."
      ]
     },
     "execution_count": 7,
     "metadata": {},
     "output_type": "execute_result"
    }
   ],
   "source": [
    "df.head()"
   ]
  },
  {
   "cell_type": "code",
   "execution_count": 11,
   "id": "1056db05",
   "metadata": {},
   "outputs": [
    {
     "data": {
      "image/png": "[encoded data removed]",
      "text/plain": [
       "<Figure size 432x288 with 1 Axes>"
      ]
     },
     "metadata": {
      "needs_background": "light"
     },
     "output_type": "display_data"
    }
   ],
   "source": [
    "ax = sns.countplot(x='sector', data=df, palette='viridis')"
   ]
  },
  {
   "cell_type": "code",
   "execution_count": 12,
   "id": "e619b114",
   "metadata": {},
   "outputs": [
    {
     "data": {
      "text/html": [
       "<div>\n",
       "<style scoped>\n",
       "    .dataframe tbody tr th:only-of-type {\n",
       "        vertical-align: middle;\n",
       "    }\n",
       "\n",
       "    .dataframe tbody tr th {\n",
       "        vertical-align: top;\n",
       "    }\n",
       "\n",
       "    .dataframe thead th {\n",
       "        text-align: right;\n",
       "    }\n",
       "</style>\n",
       "<table border=\"1\" class=\"dataframe\">\n",
       "  <thead>\n",
       "    <tr style=\"text-align: right;\">\n",
       "      <th></th>\n",
       "      <th>sector</th>\n",
       "      <th>sector_count</th>\n",
       "    </tr>\n",
       "  </thead>\n",
       "  <tbody>\n",
       "    <tr>\n",
       "      <th>0</th>\n",
       "      <td>Electrical engineering</td>\n",
       "      <td>896813</td>\n",
       "    </tr>\n",
       "    <tr>\n",
       "      <th>1</th>\n",
       "      <td>Chemistry</td>\n",
       "      <td>211678</td>\n",
       "    </tr>\n",
       "    <tr>\n",
       "      <th>2</th>\n",
       "      <td>Instruments</td>\n",
       "      <td>240350</td>\n",
       "    </tr>\n",
       "    <tr>\n",
       "      <th>3</th>\n",
       "      <td>Mechanical engineering</td>\n",
       "      <td>249250</td>\n",
       "    </tr>\n",
       "  </tbody>\n",
       "</table>\n",
       "</div>"
      ],
      "text/plain": [
       "                   sector  sector_count\n",
       "0  Electrical engineering        896813\n",
       "1               Chemistry        211678\n",
       "2             Instruments        240350\n",
       "3  Mechanical engineering        249250"
      ]
     },
     "execution_count": 12,
     "metadata": {},
     "output_type": "execute_result"
    }
   ],
   "source": [
    "# Take a look at the actual numbers for the counts.\n",
    "sizes = pd.DataFrame()\n",
    "sizes['sector'] = list(set(df.sector))\n",
    "sizes['sector_count'] = [len(df[df.sector==sector]) for sector in sizes.sector]\n",
    "sizes"
   ]
  },
  {
   "cell_type": "markdown",
   "id": "664ef2d0",
   "metadata": {},
   "source": [
    "There is an imbalance favoring \"Electrical engineering\", but we have plenty of data, so I used a subset of the data to balance the classes.\n",
    "\n"
   ]
  },
  {
   "cell_type": "code",
   "execution_count": 13,
   "id": "2febedcf",
   "metadata": {},
   "outputs": [
    {
     "name": "stdout",
     "output_type": "stream",
     "text": [
      "<class 'pandas.core.frame.DataFrame'>\n",
      "Int64Index: 800000 entries, 392499 to 386169\n",
      "Data columns (total 3 columns):\n",
      " #   Column     Non-Null Count   Dtype \n",
      "---  ------     --------------   ----- \n",
      " 0   patent_id  800000 non-null  int64 \n",
      " 1   sector     800000 non-null  object\n",
      " 2   text       800000 non-null  object\n",
      "dtypes: int64(1), object(2)\n",
      "memory usage: 24.4+ MB\n"
     ]
    }
   ],
   "source": [
    "# Take 200k from each class. I limited to this amount to help with computing times.\n",
    "class_size = 200000\n",
    "trimmed_df = pd.DataFrame()\n",
    "for sector in sizes.sector:\n",
    "    group = df[df.sector == sector][:class_size]\n",
    "    trimmed_df = trimmed_df.append(group)\n",
    "trimmed_df.info()"
   ]
  },
  {
   "cell_type": "code",
   "execution_count": 14,
   "id": "8b62b594",
   "metadata": {},
   "outputs": [
    {
     "data": {
      "image/png": "[encoded data removed]",
      "text/plain": [
       "<Figure size 432x288 with 1 Axes>"
      ]
     },
     "metadata": {
      "needs_background": "light"
     },
     "output_type": "display_data"
    }
   ],
   "source": [
    "# Verify the classes are all equal.\n",
    "ax = sns.countplot(x='sector', data=trimmed_df, palette='viridis')"
   ]
  },
  {
   "cell_type": "code",
   "execution_count": 15,
   "id": "f10f9a32",
   "metadata": {},
   "outputs": [
    {
     "data": {
      "text/plain": [
       "10031"
      ]
     },
     "execution_count": 15,
     "metadata": {},
     "output_type": "execute_result"
    }
   ],
   "source": [
    "# Do some memory management and split into X and y sets\n",
    "del df\n",
    "df = trimmed_df\n",
    "y = df['sector']\n",
    "X = df['text']\n",
    "del trimmed_df\n",
    "gc.collect()"
   ]
  },
  {
   "cell_type": "code",
   "execution_count": 16,
   "id": "94dfb103",
   "metadata": {},
   "outputs": [],
   "source": [
    "# Pickle the split dataset with all 4 classes\n",
    "y.to_pickle('data/y_4class.pkl')\n",
    "X.to_pickle('data/X_4class.pkl')"
   ]
  },
  {
   "cell_type": "code",
   "execution_count": 17,
   "id": "fc2671ac",
   "metadata": {},
   "outputs": [],
   "source": [
    "# Create training and test sets with all classes and then pickling y sets and x sets\n",
    "X_train, X_test, y_train, y_test = train_test_split(X, y, random_state = 42, test_size = 0.2)\n",
    "y_train.to_pickle('data/y_train_4class.pkl')\n",
    "y_test.to_pickle('data/y_test_4class.pkl')\n",
    "X_train.to_pickle('data/X_train_4class.pkl')\n",
    "X_test.to_pickle('data/X_test_4class.pkl')"
   ]
  },
  {
   "cell_type": "code",
   "execution_count": 20,
   "id": "e10c7432",
   "metadata": {},
   "outputs": [
    {
     "data": {
      "text/plain": [
       "((640000,), (160000,))"
      ]
     },
     "execution_count": 20,
     "metadata": {},
     "output_type": "execute_result"
    }
   ],
   "source": [
    "X_train.shape, X_test.shape"
   ]
  },
  {
   "cell_type": "markdown",
   "id": "d1b371c8",
   "metadata": {},
   "source": [
    "------------"
   ]
  },
  {
   "cell_type": "code",
   "execution_count": 21,
   "id": "65fa3a0a",
   "metadata": {},
   "outputs": [],
   "source": [
    "def preprocess_text(text):\n",
    "    '''\n",
    "    Given a string, returns tokenized and stemmed list of words\n",
    "    \n",
    "    Parameters: \n",
    "    text: string to be tokenized and stemmed\n",
    "    \n",
    "    Returns:\n",
    "    keywords: list of stemmed tokens\n",
    "    \n",
    "    '''\n",
    "    # Import packages and modules\n",
    "    import pandas as pd\n",
    "    from nltk.stem.porter import PorterStemmer\n",
    "    from nltk.tokenize import RegexpTokenizer\n",
    "    from nltk.corpus import stopwords\n",
    "\n",
    "    # Tokenize words while ignoring punctuation\n",
    "    tokenizer = RegexpTokenizer(r'\\w+')\n",
    "    tokens = tokenizer.tokenize(text)\n",
    "    \n",
    "    # Create stopwords\n",
    "    stop_words = stopwords.words('english')\n",
    "    custom_stops = ['claim', 'claims', 'method', 'comprising', 'comprises', 'including', 'includes', 'according']\n",
    "    [stop_words.append(word) for word in custom_stops]\n",
    "\n",
    "    # Lowercase and stem\n",
    "    stemmer = PorterStemmer()\n",
    "    stemmed = []\n",
    "    for item in tokens:\n",
    "        stemmed.append(stemmer.stem(item.lower()))\n",
    "    \n",
    "    # Remove stopwords\n",
    "    keywords= [stem for stem in stemmed if stem not in stop_words]\n",
    "    return stemmed"
   ]
  },
  {
   "cell_type": "code",
   "execution_count": 22,
   "id": "dd13db9c",
   "metadata": {},
   "outputs": [],
   "source": [
    "# Vectorize data\n",
    "vec = TfidfVectorizer(analyzer=preprocess_text,\n",
    "                      ngram_range=(1,3),\n",
    "                      min_df=0.1,\n",
    "                      max_df=0.9)"
   ]
  },
  {
   "cell_type": "code",
   "execution_count": 23,
   "id": "cad02f5b",
   "metadata": {},
   "outputs": [],
   "source": [
    "# Vectorize data for train and test sets, then pickle them for later\n",
    "X_train_transformed = vec.fit_transform(X_train).toarray()"
   ]
  },
  {
   "cell_type": "code",
   "execution_count": 24,
   "id": "8dee9316",
   "metadata": {},
   "outputs": [],
   "source": [
    "#pickle.dump(vec, open('./data/vec_4class.pkl', 'wb'))"
   ]
  },
  {
   "cell_type": "code",
   "execution_count": 25,
   "id": "a3aae89b",
   "metadata": {},
   "outputs": [],
   "source": [
    "#X_train_transformed = vec.fit_transform(X_train).toarray()\n",
    "X_train = pd.DataFrame(X_train_transformed, columns = vec.get_feature_names())\n",
    "#X_train.to_pickle('data/X_train_vect_4class.pkl')\n",
    "\n",
    "X_test_transformed = vec.transform(X_test).toarray()\n",
    "X_test = pd.DataFrame(X_test_transformed, columns = vec.get_feature_names())\n",
    "#X_test.to_pickle('data/X_test_vect_4class.pkl')"
   ]
  },
  {
   "cell_type": "code",
   "execution_count": 29,
   "id": "05d56cf2",
   "metadata": {},
   "outputs": [
    {
     "data": {
      "text/plain": [
       "81"
      ]
     },
     "execution_count": 29,
     "metadata": {},
     "output_type": "execute_result"
    }
   ],
   "source": [
    "len(X_train.columns)"
   ]
  },
  {
   "cell_type": "code",
   "execution_count": 30,
   "id": "47baa8f4",
   "metadata": {},
   "outputs": [
    {
     "data": {
      "text/plain": [
       "Index(['2', '3', 'an', 'apparatu', 'are', 'arrang', 'as', 'at', 'b', 'base',\n",
       "       'be', 'between', 'by', 'c', 'commun', 'configur', 'connect', 'control',\n",
       "       'correspond', 'coupl', 'data', 'defin', 'determin', 'devic', 'differ',\n",
       "       'direct', 'dispos', 'each', 'end', 'extend', 'first', 'for', 'form',\n",
       "       'from', 'gener', 'group', 'ha', 'have', 'in', 'includ', 'into', 'is',\n",
       "       'least', 'locat', 'member', 'method', 'more', 'on', 'one', 'open',\n",
       "       'oper', 'or', 'other', 'plural', 'portion', 'posit', 'process',\n",
       "       'provid', 'receiv', 'respect', 'said', 'second', 'select', 'side',\n",
       "       'signal', 'so', 'such', 'surfac', 'system', 'than', 'that', 'thereof',\n",
       "       'through', 'two', 'unit', 'use', 'when', 'wherein', 'which', 'with',\n",
       "       'within'],\n",
       "      dtype='object')"
      ]
     },
     "execution_count": 30,
     "metadata": {},
     "output_type": "execute_result"
    }
   ],
   "source": [
    "X_train.columns"
   ]
  },
  {
   "cell_type": "code",
   "execution_count": 47,
   "id": "2752bb2b",
   "metadata": {},
   "outputs": [],
   "source": [
    "from sklearn.linear_model import LogisticRegression\n",
    "from sklearn.tree import DecisionTreeClassifier \n",
    "from sklearn.metrics import accuracy_score\n",
    "from sklearn.ensemble import RandomForestClassifier"
   ]
  },
  {
   "cell_type": "code",
   "execution_count": 50,
   "id": "51b8e893",
   "metadata": {},
   "outputs": [
    {
     "name": "stdout",
     "output_type": "stream",
     "text": [
      "0.6376203125 0.63765625\n"
     ]
    }
   ],
   "source": [
    "logreg = LogisticRegression(random_state=42, n_jobs=1, \n",
    "                            max_iter=200, solver='lbfgs')\n",
    "logreg.fit(X_train,y_train)\n",
    "y_pred = logreg.predict(X_test)\n",
    "train_acc = accuracy_score(y_train,logreg.predict(X_train))\n",
    "test_acc = accuracy_score(y_test,y_pred)\n",
    "print(train_acc,test_acc)"
   ]
  },
  {
   "cell_type": "code",
   "execution_count": 51,
   "id": "f010b24d",
   "metadata": {},
   "outputs": [
    {
     "name": "stdout",
     "output_type": "stream",
     "text": [
      "0.999896875 0.5705875\n"
     ]
    }
   ],
   "source": [
    "dt = DecisionTreeClassifier(random_state=42)\n",
    "dt.fit(X_train,y_train)\n",
    "y_pred2 = dt.predict(X_test)\n",
    "train_acc2 = accuracy_score(y_train,dt.predict(X_train))\n",
    "test_acc2 = accuracy_score(y_test,y_pred2)\n",
    "print(train_acc2,test_acc2)"
   ]
  },
  {
   "cell_type": "code",
   "execution_count": 52,
   "id": "3a11168b",
   "metadata": {},
   "outputs": [
    {
     "name": "stdout",
     "output_type": "stream",
     "text": [
      "0.999890625 0.69115625\n"
     ]
    }
   ],
   "source": [
    "rf = RandomForestClassifier(random_state=42)\n",
    "rf.fit(X_train,y_train)\n",
    "y_pred3 = rf.predict(X_test)\n",
    "train_acc3 = accuracy_score(y_train,rf.predict(X_train))\n",
    "test_acc3 = accuracy_score(y_test,y_pred3)\n",
    "print(train_acc3,test_acc3)"
   ]
  },
  {
   "cell_type": "code",
   "execution_count": 60,
   "id": "717e04e8",
   "metadata": {},
   "outputs": [],
   "source": [
    "from sklearn.metrics import plot_confusion_matrix\n",
    "import matplotlib.pyplot as plt\n",
    "%matplotlib inline"
   ]
  },
  {
   "cell_type": "code",
   "execution_count": 61,
   "id": "b9a53ede",
   "metadata": {},
   "outputs": [
    {
     "data": {
      "text/plain": [
       "<sklearn.metrics._plot.confusion_matrix.ConfusionMatrixDisplay at 0x7fe165faebe0>"
      ]
     },
     "execution_count": 61,
     "metadata": {},
     "output_type": "execute_result"
    },
    {
     "data": {
      "image/png": "[encoded data removed]",
      "text/plain": [
       "<Figure size 432x288 with 2 Axes>"
      ]
     },
     "metadata": {
      "needs_background": "light"
     },
     "output_type": "display_data"
    }
   ],
   "source": [
    "plot_confusion_matrix(logreg, X_test, y_test,xticks_rotation='vertical')"
   ]
  },
  {
   "cell_type": "code",
   "execution_count": 62,
   "id": "dfd2b8fc",
   "metadata": {},
   "outputs": [
    {
     "data": {
      "text/plain": [
       "<sklearn.metrics._plot.confusion_matrix.ConfusionMatrixDisplay at 0x7fe1a670a910>"
      ]
     },
     "execution_count": 62,
     "metadata": {},
     "output_type": "execute_result"
    },
    {
     "data": {
      "image/png": "[encoded data removed]",
      "text/plain": [
       "<Figure size 432x288 with 2 Axes>"
      ]
     },
     "metadata": {
      "needs_background": "light"
     },
     "output_type": "display_data"
    }
   ],
   "source": [
    "plot_confusion_matrix(logreg, X_train, y_train,xticks_rotation='vertical')"
   ]
  },
  {
   "cell_type": "code",
   "execution_count": 63,
   "id": "00172a26",
   "metadata": {},
   "outputs": [
    {
     "data": {
      "text/plain": [
       "Text(0.5, 1.0, 'Feature Importance Top 20 - Logistic Regression')"
      ]
     },
     "execution_count": 63,
     "metadata": {},
     "output_type": "execute_result"
    },
    {
     "data": {
      "image/png": "[encoded data removed]",
      "text/plain": [
       "<Figure size 432x288 with 1 Axes>"
      ]
     },
     "metadata": {
      "needs_background": "light"
     },
     "output_type": "display_data"
    }
   ],
   "source": [
    "# get importance\n",
    "feature_names = X_train.columns\n",
    "\n",
    "# create dataframe of top features\n",
    "feature_importance = pd.DataFrame(feature_names, columns = ['feature'])\n",
    "feature_importance['importance'] = logreg.coef_[0]\n",
    "feature_importance = feature_importance.sort_values(by = ['importance'], \n",
    "                                                    ascending=False)\n",
    "\n",
    "# plot importance\n",
    "n = 20\n",
    "ax = feature_importance.iloc[:n].plot.barh(x='feature', y='importance', \n",
    "                                           color='purple').invert_yaxis()\n",
    "plt.title(f'Feature Importance Top {n} - Logistic Regression')"
   ]
  },
  {
   "cell_type": "code",
   "execution_count": null,
   "id": "dcfed44f",
   "metadata": {},
   "outputs": [],
   "source": []
  }
 ],
 "metadata": {
  "kernelspec": {
   "display_name": "Python 3",
   "language": "python",
   "name": "python3"
  },
  "language_info": {
   "codemirror_mode": {
    "name": "ipython",
    "version": 3
   },
   "file_extension": ".py",
   "mimetype": "text/x-python",
   "name": "python",
   "nbconvert_exporter": "python",
   "pygments_lexer": "ipython3",
   "version": "3.8.8"
  }
 },
 "nbformat": 4,
 "nbformat_minor": 5
}
