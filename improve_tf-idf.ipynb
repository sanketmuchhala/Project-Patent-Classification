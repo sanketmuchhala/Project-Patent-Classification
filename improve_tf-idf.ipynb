{
 "cells": [
  {
   "cell_type": "code",
   "execution_count": 1,
   "id": "d9ae3e05",
   "metadata": {},
   "outputs": [
    {
     "name": "stderr",
     "output_type": "stream",
     "text": [
      "[nltk_data] Downloading package stopwords to\n",
      "[nltk_data]     /Users/shaurya/nltk_data...\n",
      "[nltk_data]   Package stopwords is already up-to-date!\n",
      "[nltk_data] Downloading package wordnet to /Users/shaurya/nltk_data...\n",
      "[nltk_data]   Package wordnet is already up-to-date!\n"
     ]
    }
   ],
   "source": [
    "import pandas as pd\n",
    "import numpy as np\n",
    "import matplotlib.pyplot as plt\n",
    "%matplotlib inline\n",
    "import seaborn as sns\n",
    "from sklearn.feature_extraction.text import TfidfVectorizer\n",
    "from sklearn.linear_model import LogisticRegression\n",
    "from sklearn.tree import DecisionTreeClassifier \n",
    "from sklearn.metrics import accuracy_score\n",
    "from sklearn.ensemble import RandomForestClassifier\n",
    "from sklearn.metrics import plot_confusion_matrix\n",
    "\n",
    "import string\n",
    "from typing import Dict\n",
    "import re\n",
    "\n",
    "from nltk.corpus import stopwords\n",
    "import nltk\n",
    "nltk.download('stopwords')\n",
    "nltk.download('wordnet')\n",
    "import pickle"
   ]
  },
  {
   "cell_type": "code",
   "execution_count": 28,
   "id": "7be55aaf",
   "metadata": {},
   "outputs": [],
   "source": [
    "X_train = pd.read_pickle('data/X_train_4class.pkl')\n",
    "X_test = pd.read_pickle('data/X_test_4class.pkl')\n",
    "y_train = pd.read_pickle('data/y_train_4class.pkl')\n",
    "y_test = pd.read_pickle('data/y_test_4class.pkl')"
   ]
  },
  {
   "cell_type": "code",
   "execution_count": 29,
   "id": "09552889",
   "metadata": {},
   "outputs": [],
   "source": [
    "def preprocessing(raw_string: str, join_char: str = \" \", lower: bool = True):\n",
    "    raw_string = raw_string.replace(\"\\t\", \" \")\n",
    "    if lower:\n",
    "        raw_string = raw_string.lower()\n",
    "    for punct in string.punctuation:\n",
    "        raw_string = raw_string.replace(punct, \" {} \".format(punct))\n",
    "    raw_string = [i for i in raw_string.split() if i]\n",
    "    raw_string = join_char.join(raw_string)\n",
    "    return raw_string"
   ]
  },
  {
   "cell_type": "code",
   "execution_count": 30,
   "id": "d95b9f87",
   "metadata": {},
   "outputs": [
    {
     "data": {
      "text/plain": [
       "'1. In a system receiving a composite signal comprising a desired signal having desired data and an interference signal having interfering data having a plurality of frames, a method of identifying the interference signal, comprising the steps of: (a) demodulating the composite signal to produce the desired data; (b) remodulating the desired data to generate a reconstructed desired signal; (c) subtracting the reconstructed desired signal from an at least partially demodulated composite signal to generate the interference signal; (d) at least partially demodulating the interference signal using a first scrambling code of a plurality of scrambling codes to produce a first demodulated interference signal; (e) computing a histogram of a frame synchronization statistic of the first demodulated interference signal; (f) repeating steps (d) through (e) to produce additional demodulated interference signals to form a plurality of demodulated interference signals that includes the first demodulated interference signal and to generate a plurality of histograms of the frame synchronization statistics, one histogram for each of the plurality of scrambling codes; and (g) identifying the interference signal as one of the plurality of demodulated interference signals associated with the histogram having the lowest variance of the plurality of histograms.'"
      ]
     },
     "execution_count": 30,
     "metadata": {},
     "output_type": "execute_result"
    }
   ],
   "source": [
    "X_train[445310]"
   ]
  },
  {
   "cell_type": "code",
   "execution_count": 31,
   "id": "ecdafcc8",
   "metadata": {},
   "outputs": [
    {
     "data": {
      "text/plain": [
       "'1 . in a system receiving a composite signal comprising a desired signal having desired data and an interference signal having interfering data having a plurality of frames , a method of identifying the interference signal , comprising the steps of : ( a ) demodulating the composite signal to produce the desired data ; ( b ) remodulating the desired data to generate a reconstructed desired signal ; ( c ) subtracting the reconstructed desired signal from an at least partially demodulated composite signal to generate the interference signal ; ( d ) at least partially demodulating the interference signal using a first scrambling code of a plurality of scrambling codes to produce a first demodulated interference signal ; ( e ) computing a histogram of a frame synchronization statistic of the first demodulated interference signal ; ( f ) repeating steps ( d ) through ( e ) to produce additional demodulated interference signals to form a plurality of demodulated interference signals that includes the first demodulated interference signal and to generate a plurality of histograms of the frame synchronization statistics , one histogram for each of the plurality of scrambling codes ; and ( g ) identifying the interference signal as one of the plurality of demodulated interference signals associated with the histogram having the lowest variance of the plurality of histograms .'"
      ]
     },
     "execution_count": 31,
     "metadata": {},
     "output_type": "execute_result"
    }
   ],
   "source": [
    "preprocessing(X_train[445310])"
   ]
  },
  {
   "cell_type": "code",
   "execution_count": 32,
   "id": "0cc9a62b",
   "metadata": {},
   "outputs": [],
   "source": [
    "def preprocess_text(text):\n",
    "    \n",
    "    # Create stopwords\n",
    "    stop_words = stopwords.words('english')\n",
    "    custom_stops = ['claim', 'claims', 'method', 'comprising', 'comprises', 'including', 'includes', 'according']\n",
    "    [stop_words.append(word) for word in custom_stops]\n",
    "    \n",
    "    text = preprocessing(text)\n",
    "    text = re.sub('[^A-Za-z]+', ' ', text)\n",
    "    text = text.split()\n",
    "    keywords = [stem for stem in text if stem not in stop_words and len(stem)>2]\n",
    "    return keywords"
   ]
  },
  {
   "cell_type": "code",
   "execution_count": 33,
   "id": "dce99fe6",
   "metadata": {},
   "outputs": [
    {
     "data": {
      "text/plain": [
       "'system receiving composite signal desired signal desired data interference signal interfering data plurality frames identifying interference signal steps demodulating composite signal produce desired data remodulating desired data generate reconstructed desired signal subtracting reconstructed desired signal least partially demodulated composite signal generate interference signal least partially demodulating interference signal using first scrambling code plurality scrambling codes produce first demodulated interference signal computing histogram frame synchronization statistic first demodulated interference signal repeating steps produce additional demodulated interference signals form plurality demodulated interference signals first demodulated interference signal generate plurality histograms frame synchronization statistics one histogram plurality scrambling codes identifying interference signal one plurality demodulated interference signals associated histogram lowest variance plurality histograms'"
      ]
     },
     "execution_count": 33,
     "metadata": {},
     "output_type": "execute_result"
    }
   ],
   "source": [
    "\" \".join(preprocess_text(X_train[445310]))"
   ]
  },
  {
   "cell_type": "code",
   "execution_count": 34,
   "id": "bf20580c",
   "metadata": {},
   "outputs": [],
   "source": [
    "# Vectorize data\n",
    "vec = TfidfVectorizer(analyzer=preprocess_text,\n",
    "                      ngram_range=(1,3),\n",
    "                      min_df=0.05,\n",
    "                      max_df=0.9)"
   ]
  },
  {
   "cell_type": "code",
   "execution_count": 35,
   "id": "7c548192",
   "metadata": {},
   "outputs": [],
   "source": [
    "# Vectorize data for train and test sets, then pickle them for later\n",
    "X_train_transformed = vec.fit_transform(X_train).toarray()"
   ]
  },
  {
   "cell_type": "code",
   "execution_count": 36,
   "id": "f0e3e8c2",
   "metadata": {},
   "outputs": [],
   "source": [
    "#X_train_transformed = vec.fit_transform(X_train).toarray()\n",
    "X_train = pd.DataFrame(X_train_transformed, columns = vec.get_feature_names())\n",
    "#X_train.to_pickle('data/X_train_vect_4class.pkl')\n",
    "\n",
    "X_test_transformed = vec.transform(X_test).toarray()\n",
    "X_test = pd.DataFrame(X_test_transformed, columns = vec.get_feature_names())\n",
    "#X_test.to_pickle('data/X_test_vect_4class.pkl')"
   ]
  },
  {
   "cell_type": "code",
   "execution_count": 37,
   "id": "074f7283",
   "metadata": {},
   "outputs": [
    {
     "data": {
      "text/plain": [
       "123"
      ]
     },
     "execution_count": 37,
     "metadata": {},
     "output_type": "execute_result"
    }
   ],
   "source": [
    "len(X_train.columns)"
   ]
  },
  {
   "cell_type": "code",
   "execution_count": 38,
   "id": "00e5d28d",
   "metadata": {},
   "outputs": [
    {
     "data": {
      "text/plain": [
       "Index(['acid', 'adjacent', 'along', 'amount', 'another', 'apparatus', 'area',\n",
       "       'arranged', 'assembly', 'associated',\n",
       "       ...\n",
       "       'transmission', 'two', 'unit', 'user', 'using', 'value', 'vehicle',\n",
       "       'via', 'wherein', 'within'],\n",
       "      dtype='object', length=123)"
      ]
     },
     "execution_count": 38,
     "metadata": {},
     "output_type": "execute_result"
    }
   ],
   "source": [
    "X_train.columns"
   ]
  },
  {
   "cell_type": "code",
   "execution_count": 42,
   "id": "54383720",
   "metadata": {},
   "outputs": [
    {
     "name": "stdout",
     "output_type": "stream",
     "text": [
      "0.70691875 0.70538125\n"
     ]
    }
   ],
   "source": [
    "logreg = LogisticRegression(random_state=42, n_jobs=1, \n",
    "                            max_iter=500, solver='lbfgs')\n",
    "logreg.fit(X_train,y_train)\n",
    "y_pred = logreg.predict(X_test)\n",
    "train_acc = accuracy_score(y_train,logreg.predict(X_train))\n",
    "test_acc = accuracy_score(y_test,y_pred)\n",
    "print(train_acc,test_acc)"
   ]
  },
  {
   "cell_type": "code",
   "execution_count": 43,
   "id": "5ebff6ae",
   "metadata": {},
   "outputs": [
    {
     "name": "stdout",
     "output_type": "stream",
     "text": [
      "0.99895625 0.66223125\n"
     ]
    }
   ],
   "source": [
    "dt = DecisionTreeClassifier(random_state=42)\n",
    "dt.fit(X_train,y_train)\n",
    "y_pred2 = dt.predict(X_test)\n",
    "train_acc2 = accuracy_score(y_train,dt.predict(X_train))\n",
    "test_acc2 = accuracy_score(y_test,y_pred2)\n",
    "print(train_acc2,test_acc2)"
   ]
  },
  {
   "cell_type": "code",
   "execution_count": 44,
   "id": "71fa36dc",
   "metadata": {},
   "outputs": [
    {
     "data": {
      "text/plain": [
       "<sklearn.metrics._plot.confusion_matrix.ConfusionMatrixDisplay at 0x7feb10058190>"
      ]
     },
     "execution_count": 44,
     "metadata": {},
     "output_type": "execute_result"
    },
    {
     "data": {
      "image/png": "[encoded data removed]",
      "text/plain": [
       "<Figure size 432x288 with 2 Axes>"
      ]
     },
     "metadata": {
      "needs_background": "light"
     },
     "output_type": "display_data"
    }
   ],
   "source": [
    "plot_confusion_matrix(logreg, X_test, y_test,xticks_rotation='vertical')"
   ]
  },
  {
   "cell_type": "code",
   "execution_count": 45,
   "id": "618fd00f",
   "metadata": {},
   "outputs": [
    {
     "data": {
      "text/plain": [
       "Text(0.5, 1.0, 'Feature Importance Top 20 - Logistic Regression')"
      ]
     },
     "execution_count": 45,
     "metadata": {},
     "output_type": "execute_result"
    },
    {
     "data": {
      "image/png": "[encoded data removed]",
      "text/plain": [
       "<Figure size 432x288 with 1 Axes>"
      ]
     },
     "metadata": {
      "needs_background": "light"
     },
     "output_type": "display_data"
    }
   ],
   "source": [
    "# get importance\n",
    "feature_names = X_train.columns\n",
    "\n",
    "# create dataframe of top features\n",
    "feature_importance = pd.DataFrame(feature_names, columns = ['feature'])\n",
    "feature_importance['importance'] = logreg.coef_[0]\n",
    "feature_importance = feature_importance.sort_values(by = ['importance'], \n",
    "                                                    ascending=False)\n",
    "\n",
    "# plot importance\n",
    "n = 20\n",
    "ax = feature_importance.iloc[:n].plot.barh(x='feature', y='importance', \n",
    "                                           color='purple').invert_yaxis()\n",
    "plt.title(f'Feature Importance Top {n} - Logistic Regression')"
   ]
  },
  {
   "cell_type": "code",
   "execution_count": null,
   "id": "5a771e2b",
   "metadata": {},
   "outputs": [],
   "source": []
  },
  {
   "cell_type": "code",
   "execution_count": null,
   "id": "7dbbb40b",
   "metadata": {},
   "outputs": [],
   "source": []
  }
 ],
 "metadata": {
  "kernelspec": {
   "display_name": "Python 3",
   "language": "python",
   "name": "python3"
  }
 },
 "nbformat": 4,
 "nbformat_minor": 5
}
