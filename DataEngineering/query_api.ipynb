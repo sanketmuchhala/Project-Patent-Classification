{
 "cells": [
  {
   "cell_type": "code",
   "execution_count": 2,
   "metadata": {},
   "outputs": [],
   "source": [
    "import os, sys, json\n",
    "from datetime import datetime, timedelta\n",
    "import requests\n",
    "import pandas as pd\n",
    "\n",
    "import config.config as config\n",
    "import src.data_pull as pull\n"
   ]
  },
  {
   "attachments": {},
   "cell_type": "markdown",
   "metadata": {},
   "source": [
    "## Get API Fields to Query \n",
    "\n",
    "Call API based on indicated fields in CSV."
   ]
  },
  {
   "cell_type": "code",
   "execution_count": 3,
   "metadata": {},
   "outputs": [],
   "source": [
    "today = datetime.now().strftime(\"%Y%m%d\")\n",
    "req_csv = os.path.join(os.getcwd(), 'data/api_fields_20230322.csv') ## Change this file if needed\n",
    "export_file = os.path.join(os.getcwd(), f'data/patent_view_{today}.json')"
   ]
  },
  {
   "cell_type": "code",
   "execution_count": 4,
   "metadata": {},
   "outputs": [],
   "source": [
    "df_api = pull.read_required_fields(req_csv)\n",
    "str_format = pull.format_fields_for_api(df_api)"
   ]
  },
  {
   "attachments": {},
   "cell_type": "markdown",
   "metadata": {},
   "source": [
    "#### Pull a Sample of 30,000 datapoints"
   ]
  },
  {
   "cell_type": "code",
   "execution_count": 8,
   "metadata": {},
   "outputs": [],
   "source": [
    "## currently pulls 30,000 patents per call (10,000/ call * 3 loops)\n",
    "## query looks for dates after a year prior to now \n",
    "query_date = (datetime.now()-timedelta(days=365)).strftime(\"%Y-%m-%d\")\n",
    "list_dfs = list()\n",
    "for i in range(3):\n",
    "    ## Make API call, looking for response code of 200 for a successful pull\n",
    "    api_url = f'https://api.patentsview.org/patents/query?q={{\"_gte\":{{\"patent_date\":\"{query_date}\"}}}}&f={str_format}&o={{\"page\":{i+1},\"per_page\":10000}}'\n",
    "    df_ = pull.call_api(api_url)\n",
    "    list_dfs.append(df_)\n",
    "df_raw = pull.combine_called_dfs(list_dfs)\n",
    "pull.write_json(df_raw, export_file)"
   ]
  },
  {
   "attachments": {},
   "cell_type": "markdown",
   "metadata": {},
   "source": [
    "### Pull All Data from the last year to now"
   ]
  },
  {
   "cell_type": "code",
   "execution_count": 58,
   "metadata": {},
   "outputs": [],
   "source": [
    "## query looks for dates after a year prior to now \n",
    "query_date = (datetime.now()-timedelta(days=365)).strftime(\"%Y-%m-%d\")\n",
    "list_dfs = list()\n",
    "check=True\n",
    "i = 0\n",
    "while check == True:\n",
    "    ## Make API call, looking for response code of 200 for a successful pull\n",
    "    api_url = f'https://api.patentsview.org/patents/query?q={{\"_gte\":{{\"patent_date\":\"{query_date}\"}}}}&f={str_format}&o={{\"page\":{i+1},\"per_page\":10000}}'\n",
    "    df_ = pull.call_api(api_url)\n",
    "    list_dfs.append(df_)\n",
    "    i += 1\n",
    "    if type(df_) == int:\n",
    "        print(df_)\n",
    "        break\n",
    "    if df_.empty:\n",
    "        check = False\n",
    "df_raw = pull.combine_called_dfs(list_dfs)\n",
    "pull.write_json(df_raw, export_file)"
   ]
  },
  {
   "attachments": {},
   "cell_type": "markdown",
   "metadata": {},
   "source": [
    "## Pull Data Between a Specific Date Range "
   ]
  },
  {
   "cell_type": "code",
   "execution_count": 4,
   "metadata": {},
   "outputs": [],
   "source": [
    "start_date = '{\"_gte\":{\"patent_date\":\"2020-07-01\"}}' ## adjust date as needed\n",
    "end_date = '{\"_lte\":{\"patent_date\":\"2020-12-31\"}}' ## adjust date as needed "
   ]
  },
  {
   "cell_type": "code",
   "execution_count": 6,
   "metadata": {},
   "outputs": [],
   "source": [
    "## currently pulls 30,000 patents per call (10,000/ call * 3 loops)\n",
    "## query looks for dates after a year prior to now \n",
    "query_date = (datetime.now()-timedelta(days=365)).strftime(\"%Y-%m-%d\")\n",
    "list_dfs = list()\n",
    "i = 0 \n",
    "check = True\n",
    "while check == True: \n",
    "    ## Make API call, looking for response code of 200 for a successful pull\n",
    "    api_url = f'https://api.patentsview.org/patents/query?q={{\"_and\":[{start_date},{end_date}]}}&f={str_format}&o={{\"page\":{i+1},\"per_page\":10000}}'\n",
    "    df_ = pull.call_api(api_url)\n",
    "    list_dfs.append(df_)\n",
    "    i += 1\n",
    "    if type(df_) == int:\n",
    "        print(df_)\n",
    "        break\n",
    "    if df_.empty:\n",
    "        check = False "
   ]
  },
  {
   "cell_type": "code",
   "execution_count": 8,
   "metadata": {},
   "outputs": [
    {
     "data": {
      "text/plain": [
       "'/Users/mckenziequinn/github/Project_Patent_Classification/DataEngineering'"
      ]
     },
     "execution_count": 8,
     "metadata": {},
     "output_type": "execute_result"
    }
   ],
   "source": [
    "os.getcwd()"
   ]
  },
  {
   "cell_type": "code",
   "execution_count": 7,
   "metadata": {},
   "outputs": [],
   "source": [
    "df = pull.combine_called_dfs(list_dfs)\n",
    "pull.write_json(df, '/data/api_pull_20200701_20201231.json')"
   ]
  },
  {
   "attachments": {},
   "cell_type": "markdown",
   "metadata": {},
   "source": [
    "## Get Additional data fields for Specific API Fields \n",
    "\n",
    "When calling specific patent number, you need to batch the ids in groups of 400 ids per API call, otherwise you run into errors with making the request."
   ]
  },
  {
   "cell_type": "code",
   "execution_count": 33,
   "metadata": {},
   "outputs": [],
   "source": [
    "path = os.path.join(os.getcwd(),'data/2020-12-31.csv')\n",
    "export_file = os.path.join(os.getcwd(),f'data/{today}_updated.csv')"
   ]
  },
  {
   "cell_type": "code",
   "execution_count": 146,
   "metadata": {},
   "outputs": [],
   "source": [
    "## Need to batch ids into groups of 400 due to API limits\n",
    "patent_ids = pull.read_specific_patents(path)\n",
    "patent_id = pull.to_matrix(patent_ids,400)"
   ]
  },
  {
   "cell_type": "code",
   "execution_count": 148,
   "metadata": {},
   "outputs": [],
   "source": [
    "list_dfs = list()\n",
    "for p in patent_ids:\n",
    "    pid = str(p)\n",
    "    api_url = f'https://api.patentsview.org/patents/query?q={{\"patent_number\":{pid}}}&f={str_format}&o={{\"page\":{1},\"per_page\":10000}}'\n",
    "    df_temp = pull.call_api(api_url)\n",
    "    list_dfs.append(df_temp)"
   ]
  },
  {
   "cell_type": "code",
   "execution_count": 149,
   "metadata": {},
   "outputs": [],
   "source": [
    "df = pull.combine_called_dfs(list_dfs)\n",
    "pull.write_json(df, export_file)\n"
   ]
  },
  {
   "cell_type": "code",
   "execution_count": null,
   "metadata": {},
   "outputs": [],
   "source": []
  }
 ],
 "metadata": {
  "kernelspec": {
   "display_name": "env1",
   "language": "python",
   "name": "python3"
  },
  "language_info": {
   "codemirror_mode": {
    "name": "ipython",
    "version": 3
   },
   "file_extension": ".py",
   "mimetype": "text/x-python",
   "name": "python",
   "nbconvert_exporter": "python",
   "pygments_lexer": "ipython3",
   "version": "3.10.8"
  },
  "orig_nbformat": 4,
  "vscode": {
   "interpreter": {
    "hash": "8a5edab282632443219e051e4ade2d1d5bbc671c781051bf1437897cbdfea0f1"
   }
  }
 },
 "nbformat": 4,
 "nbformat_minor": 2
}
