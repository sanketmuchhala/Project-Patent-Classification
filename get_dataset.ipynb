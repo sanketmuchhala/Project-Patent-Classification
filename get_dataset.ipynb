{
 "cells": [
  {
   "cell_type": "code",
   "execution_count": 1,
   "id": "4fb33ae9",
   "metadata": {},
   "outputs": [],
   "source": [
    "import pandas as pd\n",
    "import numpy as np"
   ]
  },
  {
   "cell_type": "code",
   "execution_count": 2,
   "id": "070f0703",
   "metadata": {},
   "outputs": [],
   "source": [
    "url = 'https://s3.amazonaws.com/data.patentsview.org/download/wipo.tsv.zip'\n",
    "data = pd.read_csv(url,delimiter=\"\\t\")"
   ]
  },
  {
   "cell_type": "code",
   "execution_count": 3,
   "id": "3b97a905",
   "metadata": {},
   "outputs": [
    {
     "data": {
      "text/html": [
       "<div>\n",
       "<style scoped>\n",
       "    .dataframe tbody tr th:only-of-type {\n",
       "        vertical-align: middle;\n",
       "    }\n",
       "\n",
       "    .dataframe tbody tr th {\n",
       "        vertical-align: top;\n",
       "    }\n",
       "\n",
       "    .dataframe thead th {\n",
       "        text-align: right;\n",
       "    }\n",
       "</style>\n",
       "<table border=\"1\" class=\"dataframe\">\n",
       "  <thead>\n",
       "    <tr style=\"text-align: right;\">\n",
       "      <th></th>\n",
       "      <th>patent_id</th>\n",
       "      <th>field_id</th>\n",
       "      <th>sequence</th>\n",
       "    </tr>\n",
       "  </thead>\n",
       "  <tbody>\n",
       "    <tr>\n",
       "      <th>0</th>\n",
       "      <td>10000000</td>\n",
       "      <td>10</td>\n",
       "      <td>0</td>\n",
       "    </tr>\n",
       "    <tr>\n",
       "      <th>1</th>\n",
       "      <td>10000001</td>\n",
       "      <td>29</td>\n",
       "      <td>0</td>\n",
       "    </tr>\n",
       "    <tr>\n",
       "      <th>2</th>\n",
       "      <td>10000001</td>\n",
       "      <td>12</td>\n",
       "      <td>1</td>\n",
       "    </tr>\n",
       "    <tr>\n",
       "      <th>3</th>\n",
       "      <td>10000002</td>\n",
       "      <td>21</td>\n",
       "      <td>0</td>\n",
       "    </tr>\n",
       "    <tr>\n",
       "      <th>4</th>\n",
       "      <td>10000002</td>\n",
       "      <td>29</td>\n",
       "      <td>1</td>\n",
       "    </tr>\n",
       "  </tbody>\n",
       "</table>\n",
       "</div>"
      ],
      "text/plain": [
       "   patent_id  field_id  sequence\n",
       "0   10000000        10         0\n",
       "1   10000001        29         0\n",
       "2   10000001        12         1\n",
       "3   10000002        21         0\n",
       "4   10000002        29         1"
      ]
     },
     "execution_count": 3,
     "metadata": {},
     "output_type": "execute_result"
    }
   ],
   "source": [
    "data.head()"
   ]
  },
  {
   "cell_type": "code",
   "execution_count": 4,
   "id": "a05c9786",
   "metadata": {},
   "outputs": [
    {
     "data": {
      "text/plain": [
       "(10551403, 3)"
      ]
     },
     "execution_count": 4,
     "metadata": {},
     "output_type": "execute_result"
    }
   ],
   "source": [
    "data.shape"
   ]
  },
  {
   "cell_type": "code",
   "execution_count": 5,
   "id": "52f19760",
   "metadata": {},
   "outputs": [
    {
     "data": {
      "text/plain": [
       "(10551403, 3)"
      ]
     },
     "execution_count": 5,
     "metadata": {},
     "output_type": "execute_result"
    }
   ],
   "source": [
    "# remove duplicate entries\n",
    "data = data.drop_duplicates()\n",
    "data.shape"
   ]
  },
  {
   "cell_type": "code",
   "execution_count": 6,
   "id": "19e84b4b",
   "metadata": {},
   "outputs": [
    {
     "data": {
      "text/html": [
       "<div>\n",
       "<style scoped>\n",
       "    .dataframe tbody tr th:only-of-type {\n",
       "        vertical-align: middle;\n",
       "    }\n",
       "\n",
       "    .dataframe tbody tr th {\n",
       "        vertical-align: top;\n",
       "    }\n",
       "\n",
       "    .dataframe thead th {\n",
       "        text-align: right;\n",
       "    }\n",
       "</style>\n",
       "<table border=\"1\" class=\"dataframe\">\n",
       "  <thead>\n",
       "    <tr style=\"text-align: right;\">\n",
       "      <th></th>\n",
       "      <th>id</th>\n",
       "      <th>sector_title</th>\n",
       "      <th>field_title</th>\n",
       "    </tr>\n",
       "  </thead>\n",
       "  <tbody>\n",
       "    <tr>\n",
       "      <th>0</th>\n",
       "      <td>1</td>\n",
       "      <td>Electrical engineering</td>\n",
       "      <td>Electrical machinery, apparatus, energy</td>\n",
       "    </tr>\n",
       "    <tr>\n",
       "      <th>1</th>\n",
       "      <td>10</td>\n",
       "      <td>Instruments</td>\n",
       "      <td>Measurement</td>\n",
       "    </tr>\n",
       "    <tr>\n",
       "      <th>2</th>\n",
       "      <td>11</td>\n",
       "      <td>Instruments</td>\n",
       "      <td>Analysis of biological materials</td>\n",
       "    </tr>\n",
       "    <tr>\n",
       "      <th>3</th>\n",
       "      <td>12</td>\n",
       "      <td>Instruments</td>\n",
       "      <td>Control</td>\n",
       "    </tr>\n",
       "    <tr>\n",
       "      <th>4</th>\n",
       "      <td>13</td>\n",
       "      <td>Instruments</td>\n",
       "      <td>Medical technology</td>\n",
       "    </tr>\n",
       "  </tbody>\n",
       "</table>\n",
       "</div>"
      ],
      "text/plain": [
       "   id            sector_title                              field_title\n",
       "0   1  Electrical engineering  Electrical machinery, apparatus, energy\n",
       "1  10             Instruments                              Measurement\n",
       "2  11             Instruments         Analysis of biological materials\n",
       "3  12             Instruments                                  Control\n",
       "4  13             Instruments                       Medical technology"
      ]
     },
     "execution_count": 6,
     "metadata": {},
     "output_type": "execute_result"
    }
   ],
   "source": [
    "# Load tsv file that explains the id and sector relationship\n",
    "url = 'https://s3.amazonaws.com/data.patentsview.org/download/wipo_field.tsv.zip'\n",
    "df_field_key = pd.read_csv(url,delimiter=\"\\t\")\n",
    "df_field_key.head()"
   ]
  },
  {
   "cell_type": "code",
   "execution_count": 7,
   "id": "b64bc9e1",
   "metadata": {},
   "outputs": [
    {
     "data": {
      "text/plain": [
       "(70, 3)"
      ]
     },
     "execution_count": 7,
     "metadata": {},
     "output_type": "execute_result"
    }
   ],
   "source": [
    "df_field_key.shape"
   ]
  },
  {
   "cell_type": "code",
   "execution_count": 8,
   "id": "0d24ee2e",
   "metadata": {},
   "outputs": [
    {
     "data": {
      "text/html": [
       "<div>\n",
       "<style scoped>\n",
       "    .dataframe tbody tr th:only-of-type {\n",
       "        vertical-align: middle;\n",
       "    }\n",
       "\n",
       "    .dataframe tbody tr th {\n",
       "        vertical-align: top;\n",
       "    }\n",
       "\n",
       "    .dataframe thead th {\n",
       "        text-align: right;\n",
       "    }\n",
       "</style>\n",
       "<table border=\"1\" class=\"dataframe\">\n",
       "  <thead>\n",
       "    <tr style=\"text-align: right;\">\n",
       "      <th></th>\n",
       "      <th>id</th>\n",
       "      <th>sector_title</th>\n",
       "      <th>field_title</th>\n",
       "    </tr>\n",
       "  </thead>\n",
       "  <tbody>\n",
       "    <tr>\n",
       "      <th>0</th>\n",
       "      <td>1</td>\n",
       "      <td>Electrical engineering</td>\n",
       "      <td>Electrical machinery, apparatus, energy</td>\n",
       "    </tr>\n",
       "    <tr>\n",
       "      <th>1</th>\n",
       "      <td>10</td>\n",
       "      <td>Instruments</td>\n",
       "      <td>Measurement</td>\n",
       "    </tr>\n",
       "    <tr>\n",
       "      <th>2</th>\n",
       "      <td>11</td>\n",
       "      <td>Instruments</td>\n",
       "      <td>Analysis of biological materials</td>\n",
       "    </tr>\n",
       "    <tr>\n",
       "      <th>3</th>\n",
       "      <td>12</td>\n",
       "      <td>Instruments</td>\n",
       "      <td>Control</td>\n",
       "    </tr>\n",
       "    <tr>\n",
       "      <th>4</th>\n",
       "      <td>13</td>\n",
       "      <td>Instruments</td>\n",
       "      <td>Medical technology</td>\n",
       "    </tr>\n",
       "    <tr>\n",
       "      <th>...</th>\n",
       "      <td>...</td>\n",
       "      <td>...</td>\n",
       "      <td>...</td>\n",
       "    </tr>\n",
       "    <tr>\n",
       "      <th>65</th>\n",
       "      <td>D30</td>\n",
       "      <td>Design</td>\n",
       "      <td>Articles for the care and handling of animals</td>\n",
       "    </tr>\n",
       "    <tr>\n",
       "      <th>66</th>\n",
       "      <td>D31</td>\n",
       "      <td>Design</td>\n",
       "      <td>Machines and appliances for preparing food or ...</td>\n",
       "    </tr>\n",
       "    <tr>\n",
       "      <th>67</th>\n",
       "      <td>D32</td>\n",
       "      <td>Design</td>\n",
       "      <td>Graphic symbols and logos, surface patterns, o...</td>\n",
       "    </tr>\n",
       "    <tr>\n",
       "      <th>68</th>\n",
       "      <td>D34</td>\n",
       "      <td>Design</td>\n",
       "      <td>Material or Article Handling Equipment</td>\n",
       "    </tr>\n",
       "    <tr>\n",
       "      <th>69</th>\n",
       "      <td>D99</td>\n",
       "      <td>Design</td>\n",
       "      <td>Miscellaneous</td>\n",
       "    </tr>\n",
       "  </tbody>\n",
       "</table>\n",
       "<p>70 rows × 3 columns</p>\n",
       "</div>"
      ],
      "text/plain": [
       "     id            sector_title  \\\n",
       "0     1  Electrical engineering   \n",
       "1    10             Instruments   \n",
       "2    11             Instruments   \n",
       "3    12             Instruments   \n",
       "4    13             Instruments   \n",
       "..  ...                     ...   \n",
       "65  D30                  Design   \n",
       "66  D31                  Design   \n",
       "67  D32                  Design   \n",
       "68  D34                  Design   \n",
       "69  D99                  Design   \n",
       "\n",
       "                                          field_title  \n",
       "0             Electrical machinery, apparatus, energy  \n",
       "1                                         Measurement  \n",
       "2                    Analysis of biological materials  \n",
       "3                                             Control  \n",
       "4                                  Medical technology  \n",
       "..                                                ...  \n",
       "65      Articles for the care and handling of animals  \n",
       "66  Machines and appliances for preparing food or ...  \n",
       "67  Graphic symbols and logos, surface patterns, o...  \n",
       "68             Material or Article Handling Equipment  \n",
       "69                                      Miscellaneous  \n",
       "\n",
       "[70 rows x 3 columns]"
      ]
     },
     "execution_count": 8,
     "metadata": {},
     "output_type": "execute_result"
    }
   ],
   "source": [
    "df_field_key"
   ]
  },
  {
   "cell_type": "code",
   "execution_count": 9,
   "id": "1cbb94b5",
   "metadata": {},
   "outputs": [
    {
     "data": {
      "text/plain": [
       "(patent_id    int64\n",
       " field_id     int64\n",
       " sequence     int64\n",
       " dtype: object,\n",
       " id              object\n",
       " sector_title    object\n",
       " field_title     object\n",
       " dtype: object)"
      ]
     },
     "execution_count": 9,
     "metadata": {},
     "output_type": "execute_result"
    }
   ],
   "source": [
    "data.dtypes,df_field_key.dtypes"
   ]
  },
  {
   "cell_type": "code",
   "execution_count": 10,
   "id": "1c51dd30",
   "metadata": {},
   "outputs": [
    {
     "data": {
      "text/plain": [
       "array(['1', '10', '11', '12', '13', '14', '15', '16', '17', '18', '19',\n",
       "       '2', '20', '21', '22', '23', '24', '25', '26', '27', '28', '29',\n",
       "       '3', '30', '31', '32', '33', '34', '35', '36', '4', '5', '6', '7',\n",
       "       '8', '9', 'D01', 'D02', 'D03', 'D04', 'D05', 'D06', 'D07', 'D08',\n",
       "       'D09', 'D10', 'D11', 'D12', 'D13', 'D14', 'D15', 'D16', 'D17',\n",
       "       'D18', 'D19', 'D20', 'D21', 'D22', 'D23', 'D24', 'D25', 'D26',\n",
       "       'D27', 'D28', 'D29', 'D30', 'D31', 'D32', 'D34', 'D99'],\n",
       "      dtype=object)"
      ]
     },
     "execution_count": 10,
     "metadata": {},
     "output_type": "execute_result"
    }
   ],
   "source": [
    "df_field_key[\"id\"].unique()"
   ]
  },
  {
   "cell_type": "code",
   "execution_count": 11,
   "id": "0dd4330e",
   "metadata": {},
   "outputs": [
    {
     "data": {
      "text/plain": [
       "array([10, 29, 12, 21, 32, 34,  9, 20, 22, 25, 27, 31,  3,  2,  6, 19, 26,\n",
       "       17, 13, 28,  1, 35, 33,  8, 23, 30,  7,  4, 11, 24, 14, 16, 15, 18,\n",
       "        5])"
      ]
     },
     "execution_count": 11,
     "metadata": {},
     "output_type": "execute_result"
    }
   ],
   "source": [
    "data[\"field_id\"].unique()"
   ]
  },
  {
   "cell_type": "code",
   "execution_count": 12,
   "id": "defb5a8c",
   "metadata": {},
   "outputs": [],
   "source": [
    "data[\"field_id\"] = data[\"field_id\"].astype(str)"
   ]
  },
  {
   "cell_type": "code",
   "execution_count": 13,
   "id": "3a929691",
   "metadata": {},
   "outputs": [
    {
     "data": {
      "text/plain": [
       "(patent_id     int64\n",
       " field_id     object\n",
       " sequence      int64\n",
       " dtype: object,\n",
       " id              object\n",
       " sector_title    object\n",
       " field_title     object\n",
       " dtype: object)"
      ]
     },
     "execution_count": 13,
     "metadata": {},
     "output_type": "execute_result"
    }
   ],
   "source": [
    "data.dtypes,df_field_key.dtypes"
   ]
  },
  {
   "cell_type": "code",
   "execution_count": 14,
   "id": "0619b6ce",
   "metadata": {},
   "outputs": [
    {
     "data": {
      "text/html": [
       "<div>\n",
       "<style scoped>\n",
       "    .dataframe tbody tr th:only-of-type {\n",
       "        vertical-align: middle;\n",
       "    }\n",
       "\n",
       "    .dataframe tbody tr th {\n",
       "        vertical-align: top;\n",
       "    }\n",
       "\n",
       "    .dataframe thead th {\n",
       "        text-align: right;\n",
       "    }\n",
       "</style>\n",
       "<table border=\"1\" class=\"dataframe\">\n",
       "  <thead>\n",
       "    <tr style=\"text-align: right;\">\n",
       "      <th></th>\n",
       "      <th>patent_id</th>\n",
       "      <th>field_id</th>\n",
       "      <th>sequence</th>\n",
       "      <th>id</th>\n",
       "      <th>sector_title</th>\n",
       "      <th>field_title</th>\n",
       "    </tr>\n",
       "  </thead>\n",
       "  <tbody>\n",
       "    <tr>\n",
       "      <th>0</th>\n",
       "      <td>10000000</td>\n",
       "      <td>10</td>\n",
       "      <td>0</td>\n",
       "      <td>10</td>\n",
       "      <td>Instruments</td>\n",
       "      <td>Measurement</td>\n",
       "    </tr>\n",
       "    <tr>\n",
       "      <th>1</th>\n",
       "      <td>10000082</td>\n",
       "      <td>10</td>\n",
       "      <td>1</td>\n",
       "      <td>10</td>\n",
       "      <td>Instruments</td>\n",
       "      <td>Measurement</td>\n",
       "    </tr>\n",
       "    <tr>\n",
       "      <th>2</th>\n",
       "      <td>10000101</td>\n",
       "      <td>10</td>\n",
       "      <td>1</td>\n",
       "      <td>10</td>\n",
       "      <td>Instruments</td>\n",
       "      <td>Measurement</td>\n",
       "    </tr>\n",
       "    <tr>\n",
       "      <th>3</th>\n",
       "      <td>10000117</td>\n",
       "      <td>10</td>\n",
       "      <td>2</td>\n",
       "      <td>10</td>\n",
       "      <td>Instruments</td>\n",
       "      <td>Measurement</td>\n",
       "    </tr>\n",
       "    <tr>\n",
       "      <th>4</th>\n",
       "      <td>10000121</td>\n",
       "      <td>10</td>\n",
       "      <td>2</td>\n",
       "      <td>10</td>\n",
       "      <td>Instruments</td>\n",
       "      <td>Measurement</td>\n",
       "    </tr>\n",
       "    <tr>\n",
       "      <th>5</th>\n",
       "      <td>10000157</td>\n",
       "      <td>10</td>\n",
       "      <td>2</td>\n",
       "      <td>10</td>\n",
       "      <td>Instruments</td>\n",
       "      <td>Measurement</td>\n",
       "    </tr>\n",
       "    <tr>\n",
       "      <th>6</th>\n",
       "      <td>10000172</td>\n",
       "      <td>10</td>\n",
       "      <td>0</td>\n",
       "      <td>10</td>\n",
       "      <td>Instruments</td>\n",
       "      <td>Measurement</td>\n",
       "    </tr>\n",
       "    <tr>\n",
       "      <th>7</th>\n",
       "      <td>10000187</td>\n",
       "      <td>10</td>\n",
       "      <td>0</td>\n",
       "      <td>10</td>\n",
       "      <td>Instruments</td>\n",
       "      <td>Measurement</td>\n",
       "    </tr>\n",
       "    <tr>\n",
       "      <th>8</th>\n",
       "      <td>10000213</td>\n",
       "      <td>10</td>\n",
       "      <td>2</td>\n",
       "      <td>10</td>\n",
       "      <td>Instruments</td>\n",
       "      <td>Measurement</td>\n",
       "    </tr>\n",
       "    <tr>\n",
       "      <th>9</th>\n",
       "      <td>10000215</td>\n",
       "      <td>10</td>\n",
       "      <td>1</td>\n",
       "      <td>10</td>\n",
       "      <td>Instruments</td>\n",
       "      <td>Measurement</td>\n",
       "    </tr>\n",
       "  </tbody>\n",
       "</table>\n",
       "</div>"
      ],
      "text/plain": [
       "   patent_id field_id  sequence  id sector_title  field_title\n",
       "0   10000000       10         0  10  Instruments  Measurement\n",
       "1   10000082       10         1  10  Instruments  Measurement\n",
       "2   10000101       10         1  10  Instruments  Measurement\n",
       "3   10000117       10         2  10  Instruments  Measurement\n",
       "4   10000121       10         2  10  Instruments  Measurement\n",
       "5   10000157       10         2  10  Instruments  Measurement\n",
       "6   10000172       10         0  10  Instruments  Measurement\n",
       "7   10000187       10         0  10  Instruments  Measurement\n",
       "8   10000213       10         2  10  Instruments  Measurement\n",
       "9   10000215       10         1  10  Instruments  Measurement"
      ]
     },
     "execution_count": 14,
     "metadata": {},
     "output_type": "execute_result"
    }
   ],
   "source": [
    "# Merge dataframes to match 'field_id' with the sector title\n",
    "df = data.merge(df_field_key, left_on='field_id', right_on='id')\n",
    "df.head(10)"
   ]
  },
  {
   "cell_type": "code",
   "execution_count": 15,
   "id": "d0c40529",
   "metadata": {},
   "outputs": [
    {
     "data": {
      "text/plain": [
       "(10551403, 6)"
      ]
     },
     "execution_count": 15,
     "metadata": {},
     "output_type": "execute_result"
    }
   ],
   "source": [
    "df.shape"
   ]
  },
  {
   "cell_type": "code",
   "execution_count": 16,
   "id": "6fafb192",
   "metadata": {},
   "outputs": [
    {
     "data": {
      "text/plain": [
       "(10551403, 3)"
      ]
     },
     "execution_count": 16,
     "metadata": {},
     "output_type": "execute_result"
    }
   ],
   "source": [
    "df = df.drop(['field_id', 'sequence', 'id'],axis=1)\n",
    "df.shape"
   ]
  },
  {
   "cell_type": "code",
   "execution_count": 17,
   "id": "32e0a0c1",
   "metadata": {},
   "outputs": [
    {
     "data": {
      "text/html": [
       "<div>\n",
       "<style scoped>\n",
       "    .dataframe tbody tr th:only-of-type {\n",
       "        vertical-align: middle;\n",
       "    }\n",
       "\n",
       "    .dataframe tbody tr th {\n",
       "        vertical-align: top;\n",
       "    }\n",
       "\n",
       "    .dataframe thead th {\n",
       "        text-align: right;\n",
       "    }\n",
       "</style>\n",
       "<table border=\"1\" class=\"dataframe\">\n",
       "  <thead>\n",
       "    <tr style=\"text-align: right;\">\n",
       "      <th></th>\n",
       "      <th>patent_id</th>\n",
       "      <th>sector_title</th>\n",
       "      <th>field_title</th>\n",
       "    </tr>\n",
       "  </thead>\n",
       "  <tbody>\n",
       "    <tr>\n",
       "      <th>0</th>\n",
       "      <td>10000000</td>\n",
       "      <td>Instruments</td>\n",
       "      <td>Measurement</td>\n",
       "    </tr>\n",
       "    <tr>\n",
       "      <th>1</th>\n",
       "      <td>10000082</td>\n",
       "      <td>Instruments</td>\n",
       "      <td>Measurement</td>\n",
       "    </tr>\n",
       "    <tr>\n",
       "      <th>2</th>\n",
       "      <td>10000101</td>\n",
       "      <td>Instruments</td>\n",
       "      <td>Measurement</td>\n",
       "    </tr>\n",
       "    <tr>\n",
       "      <th>3</th>\n",
       "      <td>10000117</td>\n",
       "      <td>Instruments</td>\n",
       "      <td>Measurement</td>\n",
       "    </tr>\n",
       "    <tr>\n",
       "      <th>4</th>\n",
       "      <td>10000121</td>\n",
       "      <td>Instruments</td>\n",
       "      <td>Measurement</td>\n",
       "    </tr>\n",
       "    <tr>\n",
       "      <th>...</th>\n",
       "      <td>...</td>\n",
       "      <td>...</td>\n",
       "      <td>...</td>\n",
       "    </tr>\n",
       "    <tr>\n",
       "      <th>10551398</th>\n",
       "      <td>9998823</td>\n",
       "      <td>Electrical engineering</td>\n",
       "      <td>Basic communication processes</td>\n",
       "    </tr>\n",
       "    <tr>\n",
       "      <th>10551399</th>\n",
       "      <td>9998825</td>\n",
       "      <td>Electrical engineering</td>\n",
       "      <td>Basic communication processes</td>\n",
       "    </tr>\n",
       "    <tr>\n",
       "      <th>10551400</th>\n",
       "      <td>9998826</td>\n",
       "      <td>Electrical engineering</td>\n",
       "      <td>Basic communication processes</td>\n",
       "    </tr>\n",
       "    <tr>\n",
       "      <th>10551401</th>\n",
       "      <td>9998841</td>\n",
       "      <td>Electrical engineering</td>\n",
       "      <td>Basic communication processes</td>\n",
       "    </tr>\n",
       "    <tr>\n",
       "      <th>10551402</th>\n",
       "      <td>9999780</td>\n",
       "      <td>Electrical engineering</td>\n",
       "      <td>Basic communication processes</td>\n",
       "    </tr>\n",
       "  </tbody>\n",
       "</table>\n",
       "<p>10551403 rows × 3 columns</p>\n",
       "</div>"
      ],
      "text/plain": [
       "          patent_id            sector_title                    field_title\n",
       "0          10000000             Instruments                    Measurement\n",
       "1          10000082             Instruments                    Measurement\n",
       "2          10000101             Instruments                    Measurement\n",
       "3          10000117             Instruments                    Measurement\n",
       "4          10000121             Instruments                    Measurement\n",
       "...             ...                     ...                            ...\n",
       "10551398    9998823  Electrical engineering  Basic communication processes\n",
       "10551399    9998825  Electrical engineering  Basic communication processes\n",
       "10551400    9998826  Electrical engineering  Basic communication processes\n",
       "10551401    9998841  Electrical engineering  Basic communication processes\n",
       "10551402    9999780  Electrical engineering  Basic communication processes\n",
       "\n",
       "[10551403 rows x 3 columns]"
      ]
     },
     "execution_count": 17,
     "metadata": {},
     "output_type": "execute_result"
    }
   ],
   "source": [
    "df"
   ]
  },
  {
   "cell_type": "code",
   "execution_count": 18,
   "id": "3d710034",
   "metadata": {},
   "outputs": [],
   "source": [
    "# Store as pickle for using in another notebook\n",
    "df.to_pickle('data/pats_w_sectors.pkl')"
   ]
  },
  {
   "cell_type": "code",
   "execution_count": 19,
   "id": "463d22c8",
   "metadata": {},
   "outputs": [
    {
     "name": "stderr",
     "output_type": "stream",
     "text": [
      "/Users/shaurya/miniconda3/lib/python3.8/site-packages/IPython/core/interactiveshell.py:3165: DtypeWarning: Columns (1) have mixed types.Specify dtype option on import or set low_memory=False.\n",
      "  has_raised = await self.run_ast_nodes(code_ast.body, cell_name,\n"
     ]
    },
    {
     "data": {
      "text/html": [
       "<div>\n",
       "<style scoped>\n",
       "    .dataframe tbody tr th:only-of-type {\n",
       "        vertical-align: middle;\n",
       "    }\n",
       "\n",
       "    .dataframe tbody tr th {\n",
       "        vertical-align: top;\n",
       "    }\n",
       "\n",
       "    .dataframe thead th {\n",
       "        text-align: right;\n",
       "    }\n",
       "</style>\n",
       "<table border=\"1\" class=\"dataframe\">\n",
       "  <thead>\n",
       "    <tr style=\"text-align: right;\">\n",
       "      <th></th>\n",
       "      <th>uuid</th>\n",
       "      <th>patent_id</th>\n",
       "      <th>text</th>\n",
       "      <th>dependent</th>\n",
       "      <th>sequence</th>\n",
       "      <th>num</th>\n",
       "      <th>exemplary</th>\n",
       "    </tr>\n",
       "  </thead>\n",
       "  <tbody>\n",
       "    <tr>\n",
       "      <th>0</th>\n",
       "      <td>9047afa4-974e-11eb-9615-121df0c29c1e</td>\n",
       "      <td>10888042</td>\n",
       "      <td>1. A ground engagement tool for mounting to a ...</td>\n",
       "      <td>NaN</td>\n",
       "      <td>0</td>\n",
       "      <td>1</td>\n",
       "      <td>1</td>\n",
       "    </tr>\n",
       "    <tr>\n",
       "      <th>1</th>\n",
       "      <td>9047c4c0-974e-11eb-9615-121df0c29c1e</td>\n",
       "      <td>10888043</td>\n",
       "      <td>1. A self-propelled baling vehicle for forming...</td>\n",
       "      <td>NaN</td>\n",
       "      <td>0</td>\n",
       "      <td>1</td>\n",
       "      <td>1</td>\n",
       "    </tr>\n",
       "    <tr>\n",
       "      <th>2</th>\n",
       "      <td>9047d145-974e-11eb-9615-121df0c29c1e</td>\n",
       "      <td>10888044</td>\n",
       "      <td>17. A method of transporting an agricultural i...</td>\n",
       "      <td>NaN</td>\n",
       "      <td>16</td>\n",
       "      <td>17</td>\n",
       "      <td>1</td>\n",
       "    </tr>\n",
       "    <tr>\n",
       "      <th>3</th>\n",
       "      <td>9047db92-974e-11eb-9615-121df0c29c1e</td>\n",
       "      <td>10888045</td>\n",
       "      <td>1. A weeding robot comprising: a chassis; a dr...</td>\n",
       "      <td>NaN</td>\n",
       "      <td>0</td>\n",
       "      <td>1</td>\n",
       "      <td>1</td>\n",
       "    </tr>\n",
       "    <tr>\n",
       "      <th>4</th>\n",
       "      <td>90493549-974e-11eb-9615-121df0c29c1e</td>\n",
       "      <td>10888046</td>\n",
       "      <td>1. A method for operating an autonomous mobile...</td>\n",
       "      <td>NaN</td>\n",
       "      <td>0</td>\n",
       "      <td>1</td>\n",
       "      <td>1</td>\n",
       "    </tr>\n",
       "  </tbody>\n",
       "</table>\n",
       "</div>"
      ],
      "text/plain": [
       "                                   uuid patent_id  \\\n",
       "0  9047afa4-974e-11eb-9615-121df0c29c1e  10888042   \n",
       "1  9047c4c0-974e-11eb-9615-121df0c29c1e  10888043   \n",
       "2  9047d145-974e-11eb-9615-121df0c29c1e  10888044   \n",
       "3  9047db92-974e-11eb-9615-121df0c29c1e  10888045   \n",
       "4  90493549-974e-11eb-9615-121df0c29c1e  10888046   \n",
       "\n",
       "                                                text dependent  sequence  num  \\\n",
       "0  1. A ground engagement tool for mounting to a ...       NaN         0    1   \n",
       "1  1. A self-propelled baling vehicle for forming...       NaN         0    1   \n",
       "2  17. A method of transporting an agricultural i...       NaN        16   17   \n",
       "3  1. A weeding robot comprising: a chassis; a dr...       NaN         0    1   \n",
       "4  1. A method for operating an autonomous mobile...       NaN         0    1   \n",
       "\n",
       "   exemplary  \n",
       "0          1  \n",
       "1          1  \n",
       "2          1  \n",
       "3          1  \n",
       "4          1  "
      ]
     },
     "execution_count": 19,
     "metadata": {},
     "output_type": "execute_result"
    }
   ],
   "source": [
    "# Load 2021 data\n",
    "url = 'https://s3.amazonaws.com/data.patentsview.org/claims/claims_2021.tsv.zip'\n",
    "df2 = pd.read_csv(url,delimiter=\"\\t\")\n",
    "df2.head()"
   ]
  },
  {
   "cell_type": "code",
   "execution_count": 20,
   "id": "b701f47f",
   "metadata": {},
   "outputs": [
    {
     "data": {
      "text/plain": [
       "(278097, 7)"
      ]
     },
     "execution_count": 20,
     "metadata": {},
     "output_type": "execute_result"
    }
   ],
   "source": [
    "df2[df2[\"num\"]==1].shape"
   ]
  },
  {
   "cell_type": "code",
   "execution_count": 21,
   "id": "8c728ed7",
   "metadata": {},
   "outputs": [],
   "source": [
    "def clean_tsv(df, cols2drop):\n",
    "    df = df.drop(cols2drop, axis=1)\n",
    "\n",
    "    # get rid of reissue, design, and plant patents\n",
    "    df = df[df.patent_id.str.isnumeric()==True]\n",
    "\n",
    "    # make sure dtype for patid is integer\n",
    "    df.patent_id = df.patent_id.astype('int64')\n",
    "\n",
    "    # keep only rows with 1st claim, then drop column\n",
    "    df = df[df.claim_number==1]\n",
    "    df = df.drop('claim_number', axis=1)\n",
    "\n",
    "    return df"
   ]
  },
  {
   "cell_type": "code",
   "execution_count": 22,
   "id": "ffb14f26",
   "metadata": {},
   "outputs": [],
   "source": [
    "# rename num column since num name causes issues\n",
    "df2 = df2.rename(columns={'num':'claim_number'})\n",
    "\n",
    "# # use my cleaning function to clean up df\n",
    "cols2drop=['uuid', 'sequence', 'exemplary', 'dependent']\n",
    "df_ = clean_tsv(df2, cols2drop)\n",
    "\n"
   ]
  },
  {
   "cell_type": "code",
   "execution_count": 23,
   "id": "77dbd54a",
   "metadata": {},
   "outputs": [
    {
     "data": {
      "text/html": [
       "<div>\n",
       "<style scoped>\n",
       "    .dataframe tbody tr th:only-of-type {\n",
       "        vertical-align: middle;\n",
       "    }\n",
       "\n",
       "    .dataframe tbody tr th {\n",
       "        vertical-align: top;\n",
       "    }\n",
       "\n",
       "    .dataframe thead th {\n",
       "        text-align: right;\n",
       "    }\n",
       "</style>\n",
       "<table border=\"1\" class=\"dataframe\">\n",
       "  <thead>\n",
       "    <tr style=\"text-align: right;\">\n",
       "      <th></th>\n",
       "      <th>patent_id</th>\n",
       "      <th>text</th>\n",
       "    </tr>\n",
       "  </thead>\n",
       "  <tbody>\n",
       "    <tr>\n",
       "      <th>0</th>\n",
       "      <td>10888042</td>\n",
       "      <td>1. A ground engagement tool for mounting to a ...</td>\n",
       "    </tr>\n",
       "    <tr>\n",
       "      <th>1</th>\n",
       "      <td>10888043</td>\n",
       "      <td>1. A self-propelled baling vehicle for forming...</td>\n",
       "    </tr>\n",
       "    <tr>\n",
       "      <th>3</th>\n",
       "      <td>10888045</td>\n",
       "      <td>1. A weeding robot comprising: a chassis; a dr...</td>\n",
       "    </tr>\n",
       "    <tr>\n",
       "      <th>4</th>\n",
       "      <td>10888046</td>\n",
       "      <td>1. A method for operating an autonomous mobile...</td>\n",
       "    </tr>\n",
       "    <tr>\n",
       "      <th>5</th>\n",
       "      <td>10888047</td>\n",
       "      <td>1. A parking brake apparatus for a vehicle, co...</td>\n",
       "    </tr>\n",
       "  </tbody>\n",
       "</table>\n",
       "</div>"
      ],
      "text/plain": [
       "   patent_id                                               text\n",
       "0   10888042  1. A ground engagement tool for mounting to a ...\n",
       "1   10888043  1. A self-propelled baling vehicle for forming...\n",
       "3   10888045  1. A weeding robot comprising: a chassis; a dr...\n",
       "4   10888046  1. A method for operating an autonomous mobile...\n",
       "5   10888047  1. A parking brake apparatus for a vehicle, co..."
      ]
     },
     "execution_count": 23,
     "metadata": {},
     "output_type": "execute_result"
    }
   ],
   "source": [
    "# # start master dataframe to collect data for all years\n",
    "df_master = df_\n",
    "del df2\n",
    "del df_\n",
    "df_master.head()"
   ]
  },
  {
   "cell_type": "code",
   "execution_count": 24,
   "id": "137fee22",
   "metadata": {},
   "outputs": [
    {
     "data": {
      "text/plain": [
       "(236506, 2)"
      ]
     },
     "execution_count": 24,
     "metadata": {},
     "output_type": "execute_result"
    }
   ],
   "source": [
    "df_master.shape"
   ]
  },
  {
   "cell_type": "code",
   "execution_count": 25,
   "id": "542e6f38",
   "metadata": {},
   "outputs": [
    {
     "name": "stderr",
     "output_type": "stream",
     "text": [
      "/Users/shaurya/miniconda3/lib/python3.8/site-packages/IPython/core/interactiveshell.py:3165: DtypeWarning: Columns (1) have mixed types.Specify dtype option on import or set low_memory=False.\n",
      "  has_raised = await self.run_ast_nodes(code_ast.body, cell_name,\n",
      "/Users/shaurya/miniconda3/lib/python3.8/site-packages/IPython/core/interactiveshell.py:3165: DtypeWarning: Columns (1) have mixed types.Specify dtype option on import or set low_memory=False.\n",
      "  has_raised = await self.run_ast_nodes(code_ast.body, cell_name,\n",
      "/Users/shaurya/miniconda3/lib/python3.8/site-packages/IPython/core/interactiveshell.py:3165: DtypeWarning: Columns (1) have mixed types.Specify dtype option on import or set low_memory=False.\n",
      "  has_raised = await self.run_ast_nodes(code_ast.body, cell_name,\n",
      "/Users/shaurya/miniconda3/lib/python3.8/site-packages/IPython/core/interactiveshell.py:3165: DtypeWarning: Columns (1) have mixed types.Specify dtype option on import or set low_memory=False.\n",
      "  has_raised = await self.run_ast_nodes(code_ast.body, cell_name,\n",
      "/Users/shaurya/miniconda3/lib/python3.8/site-packages/IPython/core/interactiveshell.py:3165: DtypeWarning: Columns (1) have mixed types.Specify dtype option on import or set low_memory=False.\n",
      "  has_raised = await self.run_ast_nodes(code_ast.body, cell_name,\n",
      "/Users/shaurya/miniconda3/lib/python3.8/site-packages/IPython/core/interactiveshell.py:3165: DtypeWarning: Columns (1) have mixed types.Specify dtype option on import or set low_memory=False.\n",
      "  has_raised = await self.run_ast_nodes(code_ast.body, cell_name,\n",
      "/Users/shaurya/miniconda3/lib/python3.8/site-packages/IPython/core/interactiveshell.py:3165: DtypeWarning: Columns (1) have mixed types.Specify dtype option on import or set low_memory=False.\n",
      "  has_raised = await self.run_ast_nodes(code_ast.body, cell_name,\n",
      "/Users/shaurya/miniconda3/lib/python3.8/site-packages/IPython/core/interactiveshell.py:3165: DtypeWarning: Columns (1) have mixed types.Specify dtype option on import or set low_memory=False.\n",
      "  has_raised = await self.run_ast_nodes(code_ast.body, cell_name,\n",
      "/Users/shaurya/miniconda3/lib/python3.8/site-packages/IPython/core/interactiveshell.py:3165: DtypeWarning: Columns (1) have mixed types.Specify dtype option on import or set low_memory=False.\n",
      "  has_raised = await self.run_ast_nodes(code_ast.body, cell_name,\n",
      "/Users/shaurya/miniconda3/lib/python3.8/site-packages/IPython/core/interactiveshell.py:3165: DtypeWarning: Columns (1) have mixed types.Specify dtype option on import or set low_memory=False.\n",
      "  has_raised = await self.run_ast_nodes(code_ast.body, cell_name,\n"
     ]
    }
   ],
   "source": [
    "# Iterate to load 2011 - 2019 to round out 10 years of data\n",
    "years = range(2011,2021,1)\n",
    "cols2drop = ['uuid', 'sequence', 'exemplary', 'dependent']\n",
    "for year in years:\n",
    "    url = f'https://s3.amazonaws.com/data.patentsview.org/claims/claims_{year}.tsv.zip'\n",
    "    df = clean_tsv(pd.read_csv(url,delimiter=\"\\t\"), cols2drop) # download and clean\n",
    "    df_master = df_master.append(df, ignore_index=True) # append to master df"
   ]
  },
  {
   "cell_type": "code",
   "execution_count": 26,
   "id": "84457510",
   "metadata": {},
   "outputs": [
    {
     "name": "stdout",
     "output_type": "stream",
     "text": [
      "<class 'pandas.core.frame.DataFrame'>\n",
      "RangeIndex: 2206946 entries, 0 to 2206945\n",
      "Data columns (total 2 columns):\n",
      " #   Column     Dtype \n",
      "---  ------     ----- \n",
      " 0   patent_id  int64 \n",
      " 1   text       object\n",
      "dtypes: int64(1), object(1)\n",
      "memory usage: 33.7+ MB\n"
     ]
    }
   ],
   "source": [
    "df_master.info()"
   ]
  },
  {
   "cell_type": "code",
   "execution_count": 27,
   "id": "82666176",
   "metadata": {},
   "outputs": [],
   "source": [
    "# Store as pickle for using in another notebook\n",
    "df_master.to_pickle('./data/master_data.pkl')"
   ]
  },
  {
   "cell_type": "code",
   "execution_count": 28,
   "id": "de279c43",
   "metadata": {},
   "outputs": [
    {
     "name": "stderr",
     "output_type": "stream",
     "text": [
      "/Users/shaurya/miniconda3/lib/python3.8/site-packages/IPython/core/interactiveshell.py:3165: DtypeWarning: Columns (1) have mixed types.Specify dtype option on import or set low_memory=False.\n",
      "  has_raised = await self.run_ast_nodes(code_ast.body, cell_name,\n"
     ]
    }
   ],
   "source": [
    "# Get 2010 data to use as holdout data\n",
    "cols2drop = ['uuid', 'sequence', 'exemplary', 'dependent']\n",
    "url = f'https://s3.amazonaws.com/data.patentsview.org/claims/claims_2010.tsv.zip'\n",
    "df2010 = clean_tsv(pd.read_csv(url,delimiter=\"\\t\"), cols2drop)"
   ]
  },
  {
   "cell_type": "code",
   "execution_count": 30,
   "id": "09a5150c",
   "metadata": {},
   "outputs": [],
   "source": [
    "def merge_and_clean(df1, df2):\n",
    "    '''\n",
    "    Given two dataframes for my data, rename columns and merge data\n",
    "    \n",
    "    Parameters: \n",
    "    df1: \n",
    "    df2: \n",
    "    \n",
    "    Returns:\n",
    "    df: dataframe with the data downloaded and unzipped\n",
    "    \n",
    "    '''\n",
    "    df1 = df1.drop(['field_title'], axis=1)\n",
    "    df1 = df1.drop_duplicates()\n",
    "    groups = df1.groupby(by='patent_id').count()\n",
    "    singles = groups[groups.sector_title == 1]\n",
    "    singles = singles.reset_index()\n",
    "    ok_pats = df1.merge(singles, on='patent_id')\n",
    "    ok_pats = ok_pats.drop(['sector_title_y'], axis=1)\n",
    "    ok_pats = ok_pats.rename(columns={'sector_title_x':'sector'})\n",
    "    ok_pats.patent_id = ok_pats.patent_id.astype('int64')\n",
    "    df_merged = ok_pats.merge(df2, how='inner', on='patent_id')\n",
    "    return df_merged"
   ]
  },
  {
   "cell_type": "code",
   "execution_count": 32,
   "id": "b3f2a0f8",
   "metadata": {},
   "outputs": [
    {
     "data": {
      "text/html": [
       "<div>\n",
       "<style scoped>\n",
       "    .dataframe tbody tr th:only-of-type {\n",
       "        vertical-align: middle;\n",
       "    }\n",
       "\n",
       "    .dataframe tbody tr th {\n",
       "        vertical-align: top;\n",
       "    }\n",
       "\n",
       "    .dataframe thead th {\n",
       "        text-align: right;\n",
       "    }\n",
       "</style>\n",
       "<table border=\"1\" class=\"dataframe\">\n",
       "  <thead>\n",
       "    <tr style=\"text-align: right;\">\n",
       "      <th></th>\n",
       "      <th>patent_id</th>\n",
       "      <th>sector</th>\n",
       "      <th>text</th>\n",
       "    </tr>\n",
       "  </thead>\n",
       "  <tbody>\n",
       "    <tr>\n",
       "      <th>0</th>\n",
       "      <td>7640670</td>\n",
       "      <td>Instruments</td>\n",
       "      <td>1. An inspecting tool for checking whether ins...</td>\n",
       "    </tr>\n",
       "    <tr>\n",
       "      <th>1</th>\n",
       "      <td>7640672</td>\n",
       "      <td>Instruments</td>\n",
       "      <td>1. A reference tool comprising: a light source...</td>\n",
       "    </tr>\n",
       "    <tr>\n",
       "      <th>2</th>\n",
       "      <td>7640673</td>\n",
       "      <td>Instruments</td>\n",
       "      <td>1. A method for calibrating a sensor pod of a ...</td>\n",
       "    </tr>\n",
       "    <tr>\n",
       "      <th>3</th>\n",
       "      <td>7640674</td>\n",
       "      <td>Instruments</td>\n",
       "      <td>1. A method for calibrating a portable coordin...</td>\n",
       "    </tr>\n",
       "    <tr>\n",
       "      <th>4</th>\n",
       "      <td>7640677</td>\n",
       "      <td>Instruments</td>\n",
       "      <td>1. A tape measure comprising: a housing contai...</td>\n",
       "    </tr>\n",
       "    <tr>\n",
       "      <th>...</th>\n",
       "      <td>...</td>\n",
       "      <td>...</td>\n",
       "      <td>...</td>\n",
       "    </tr>\n",
       "    <tr>\n",
       "      <th>145568</th>\n",
       "      <td>7861131</td>\n",
       "      <td>Electrical engineering</td>\n",
       "      <td>1. A method for recovering at least a portion ...</td>\n",
       "    </tr>\n",
       "    <tr>\n",
       "      <th>145569</th>\n",
       "      <td>7861134</td>\n",
       "      <td>Electrical engineering</td>\n",
       "      <td>1. A method comprising: determining, at a stat...</td>\n",
       "    </tr>\n",
       "    <tr>\n",
       "      <th>145570</th>\n",
       "      <td>7861135</td>\n",
       "      <td>Electrical engineering</td>\n",
       "      <td>1. A low-complexity and low-power-consumption ...</td>\n",
       "    </tr>\n",
       "    <tr>\n",
       "      <th>145571</th>\n",
       "      <td>7861146</td>\n",
       "      <td>Electrical engineering</td>\n",
       "      <td>1. A Viterbi decoding apparatus for decoding a...</td>\n",
       "    </tr>\n",
       "    <tr>\n",
       "      <th>145572</th>\n",
       "      <td>7861147</td>\n",
       "      <td>Electrical engineering</td>\n",
       "      <td>1. An add-compare-select (ACS) unit, generatin...</td>\n",
       "    </tr>\n",
       "  </tbody>\n",
       "</table>\n",
       "<p>145573 rows × 3 columns</p>\n",
       "</div>"
      ],
      "text/plain": [
       "        patent_id                  sector  \\\n",
       "0         7640670             Instruments   \n",
       "1         7640672             Instruments   \n",
       "2         7640673             Instruments   \n",
       "3         7640674             Instruments   \n",
       "4         7640677             Instruments   \n",
       "...           ...                     ...   \n",
       "145568    7861131  Electrical engineering   \n",
       "145569    7861134  Electrical engineering   \n",
       "145570    7861135  Electrical engineering   \n",
       "145571    7861146  Electrical engineering   \n",
       "145572    7861147  Electrical engineering   \n",
       "\n",
       "                                                     text  \n",
       "0       1. An inspecting tool for checking whether ins...  \n",
       "1       1. A reference tool comprising: a light source...  \n",
       "2       1. A method for calibrating a sensor pod of a ...  \n",
       "3       1. A method for calibrating a portable coordin...  \n",
       "4       1. A tape measure comprising: a housing contai...  \n",
       "...                                                   ...  \n",
       "145568  1. A method for recovering at least a portion ...  \n",
       "145569  1. A method comprising: determining, at a stat...  \n",
       "145570  1. A low-complexity and low-power-consumption ...  \n",
       "145571  1. A Viterbi decoding apparatus for decoding a...  \n",
       "145572  1. An add-compare-select (ACS) unit, generatin...  \n",
       "\n",
       "[145573 rows x 3 columns]"
      ]
     },
     "execution_count": 32,
     "metadata": {},
     "output_type": "execute_result"
    }
   ],
   "source": [
    "df_pats_w_sectors = pd.read_pickle('./data/pats_w_sectors.pkl') # data with the classifications\n",
    "# This function takes the master dataframe, merges it with the classification \n",
    "# dataframe, and returns the cleaned copy\n",
    "df_master = merge_and_clean(df_pats_w_sectors, df2010)\n",
    "df_master"
   ]
  },
  {
   "cell_type": "code",
   "execution_count": 33,
   "id": "d693afdd",
   "metadata": {},
   "outputs": [
    {
     "data": {
      "text/html": [
       "<div>\n",
       "<style scoped>\n",
       "    .dataframe tbody tr th:only-of-type {\n",
       "        vertical-align: middle;\n",
       "    }\n",
       "\n",
       "    .dataframe tbody tr th {\n",
       "        vertical-align: top;\n",
       "    }\n",
       "\n",
       "    .dataframe thead th {\n",
       "        text-align: right;\n",
       "    }\n",
       "</style>\n",
       "<table border=\"1\" class=\"dataframe\">\n",
       "  <thead>\n",
       "    <tr style=\"text-align: right;\">\n",
       "      <th></th>\n",
       "      <th>patent_id</th>\n",
       "      <th>sector</th>\n",
       "      <th>text</th>\n",
       "    </tr>\n",
       "  </thead>\n",
       "  <tbody>\n",
       "    <tr>\n",
       "      <th>0</th>\n",
       "      <td>7640670</td>\n",
       "      <td>Instruments</td>\n",
       "      <td>1. An inspecting tool for checking whether ins...</td>\n",
       "    </tr>\n",
       "    <tr>\n",
       "      <th>1</th>\n",
       "      <td>7640672</td>\n",
       "      <td>Instruments</td>\n",
       "      <td>1. A reference tool comprising: a light source...</td>\n",
       "    </tr>\n",
       "    <tr>\n",
       "      <th>2</th>\n",
       "      <td>7640673</td>\n",
       "      <td>Instruments</td>\n",
       "      <td>1. A method for calibrating a sensor pod of a ...</td>\n",
       "    </tr>\n",
       "    <tr>\n",
       "      <th>3</th>\n",
       "      <td>7640674</td>\n",
       "      <td>Instruments</td>\n",
       "      <td>1. A method for calibrating a portable coordin...</td>\n",
       "    </tr>\n",
       "    <tr>\n",
       "      <th>4</th>\n",
       "      <td>7640677</td>\n",
       "      <td>Instruments</td>\n",
       "      <td>1. A tape measure comprising: a housing contai...</td>\n",
       "    </tr>\n",
       "    <tr>\n",
       "      <th>...</th>\n",
       "      <td>...</td>\n",
       "      <td>...</td>\n",
       "      <td>...</td>\n",
       "    </tr>\n",
       "    <tr>\n",
       "      <th>145568</th>\n",
       "      <td>7861131</td>\n",
       "      <td>Electrical engineering</td>\n",
       "      <td>1. A method for recovering at least a portion ...</td>\n",
       "    </tr>\n",
       "    <tr>\n",
       "      <th>145569</th>\n",
       "      <td>7861134</td>\n",
       "      <td>Electrical engineering</td>\n",
       "      <td>1. A method comprising: determining, at a stat...</td>\n",
       "    </tr>\n",
       "    <tr>\n",
       "      <th>145570</th>\n",
       "      <td>7861135</td>\n",
       "      <td>Electrical engineering</td>\n",
       "      <td>1. A low-complexity and low-power-consumption ...</td>\n",
       "    </tr>\n",
       "    <tr>\n",
       "      <th>145571</th>\n",
       "      <td>7861146</td>\n",
       "      <td>Electrical engineering</td>\n",
       "      <td>1. A Viterbi decoding apparatus for decoding a...</td>\n",
       "    </tr>\n",
       "    <tr>\n",
       "      <th>145572</th>\n",
       "      <td>7861147</td>\n",
       "      <td>Electrical engineering</td>\n",
       "      <td>1. An add-compare-select (ACS) unit, generatin...</td>\n",
       "    </tr>\n",
       "  </tbody>\n",
       "</table>\n",
       "<p>137120 rows × 3 columns</p>\n",
       "</div>"
      ],
      "text/plain": [
       "        patent_id                  sector  \\\n",
       "0         7640670             Instruments   \n",
       "1         7640672             Instruments   \n",
       "2         7640673             Instruments   \n",
       "3         7640674             Instruments   \n",
       "4         7640677             Instruments   \n",
       "...           ...                     ...   \n",
       "145568    7861131  Electrical engineering   \n",
       "145569    7861134  Electrical engineering   \n",
       "145570    7861135  Electrical engineering   \n",
       "145571    7861146  Electrical engineering   \n",
       "145572    7861147  Electrical engineering   \n",
       "\n",
       "                                                     text  \n",
       "0       1. An inspecting tool for checking whether ins...  \n",
       "1       1. A reference tool comprising: a light source...  \n",
       "2       1. A method for calibrating a sensor pod of a ...  \n",
       "3       1. A method for calibrating a portable coordin...  \n",
       "4       1. A tape measure comprising: a housing contai...  \n",
       "...                                                   ...  \n",
       "145568  1. A method for recovering at least a portion ...  \n",
       "145569  1. A method comprising: determining, at a stat...  \n",
       "145570  1. A low-complexity and low-power-consumption ...  \n",
       "145571  1. A Viterbi decoding apparatus for decoding a...  \n",
       "145572  1. An add-compare-select (ACS) unit, generatin...  \n",
       "\n",
       "[137120 rows x 3 columns]"
      ]
     },
     "execution_count": 33,
     "metadata": {},
     "output_type": "execute_result"
    }
   ],
   "source": [
    "df_master = df_master[df_master.sector!='Other fields']\n",
    "df_master"
   ]
  },
  {
   "cell_type": "code",
   "execution_count": 34,
   "id": "0084ae39",
   "metadata": {},
   "outputs": [],
   "source": [
    "df_master.to_pickle('./data/holdout_2010_data.pkl')"
   ]
  },
  {
   "cell_type": "code",
   "execution_count": null,
   "id": "091c4e27",
   "metadata": {},
   "outputs": [],
   "source": []
  }
 ],
 "metadata": {
  "kernelspec": {
   "display_name": "Python 3",
   "language": "python",
   "name": "python3"
  },
  "language_info": {
   "codemirror_mode": {
    "name": "ipython",
    "version": 3
   },
   "file_extension": ".py",
   "mimetype": "text/x-python",
   "name": "python",
   "nbconvert_exporter": "python",
   "pygments_lexer": "ipython3",
   "version": "3.8.8"
  }
 },
 "nbformat": 4,
 "nbformat_minor": 5
}
