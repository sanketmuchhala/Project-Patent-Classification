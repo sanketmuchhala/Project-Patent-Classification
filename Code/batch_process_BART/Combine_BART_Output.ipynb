{
 "cells": [
  {
   "cell_type": "markdown",
   "id": "18967f80",
   "metadata": {},
   "source": [
    "# Setup Environment"
   ]
  },
  {
   "cell_type": "code",
   "execution_count": 11,
   "id": "5ea5276d",
   "metadata": {},
   "outputs": [],
   "source": [
    "import pandas as pd\n",
    "import os\n",
    "import pickle\n",
    "import json"
   ]
  },
  {
   "cell_type": "markdown",
   "id": "ea701edb",
   "metadata": {},
   "source": [
    "# Load Data"
   ]
  },
  {
   "cell_type": "code",
   "execution_count": 2,
   "id": "4f17cc56",
   "metadata": {},
   "outputs": [],
   "source": [
    "def load_BART_Results(filename):\n",
    "    with open(filename, 'rb') as f:\n",
    "        results = pickle.load(f)\n",
    "    return results"
   ]
  },
  {
   "cell_type": "code",
   "execution_count": 3,
   "id": "777e887b",
   "metadata": {},
   "outputs": [],
   "source": [
    "def create_filename(fileidx):\n",
    "    fileidx = str(fileidx)\n",
    "    if len(fileidx) == 1:\n",
    "        fileidx = \"0\" + fileidx\n",
    "    return 'BART_results_' + fileidx + '.pkl'"
   ]
  },
  {
   "cell_type": "code",
   "execution_count": 4,
   "id": "1a39ed89",
   "metadata": {},
   "outputs": [],
   "source": [
    "bart_results = []\n",
    "\n",
    "for i in range(1, 100):\n",
    "    filename = create_filename(i)\n",
    "    try:\n",
    "        temp_results = load_BART_Results(filename)\n",
    "        bart_results.extend(temp_results)\n",
    "    except:\n",
    "        pass\n",
    "\n",
    "with open('BART_results_all.pkl', 'wb') as f:\n",
    "    pickle.dump(bart_results, f)"
   ]
  },
  {
   "cell_type": "code",
   "execution_count": 27,
   "id": "a0109145",
   "metadata": {},
   "outputs": [
    {
     "data": {
      "text/plain": [
       "[1, 2]"
      ]
     },
     "execution_count": 27,
     "metadata": {},
     "output_type": "execute_result"
    }
   ],
   "source": [
    "pd.Series(a)[[0,1]].tolist()"
   ]
  },
  {
   "cell_type": "code",
   "execution_count": 5,
   "id": "c151c871",
   "metadata": {},
   "outputs": [],
   "source": [
    "def keep_scores_above_threshold(bart_results, threshold=0.25):\n",
    "    def get_indexes_above_threshold(scores):\n",
    "        indexes = []\n",
    "        scores_list = []\n",
    "        for idx, score in enumerate(scores):\n",
    "            if score >= threshold:\n",
    "                indexes.append(idx)\n",
    "                scores_list.append(score)\n",
    "            else:\n",
    "                break #Scores are sorted so processing stops at first encounter\n",
    "        if len(indexes) > 0:\n",
    "            return indexes, scores_list\n",
    "        else:\n",
    "            return None, None\n",
    "    def extract_indexed_labels(labels, indexes):\n",
    "        if indexes:\n",
    "            return pd.Series(labels)[indexes].tolist()\n",
    "        else:\n",
    "            return None\n",
    "    bart_results_t = [] #BART results above threshold\n",
    "    for result in bart_results:\n",
    "        indexes, scores_list = get_indexes_above_threshold(result['scores'])\n",
    "        labels = extract_indexed_labels(result['labels'], indexes)\n",
    "        temp_result = {'sequence': result['sequence'],\n",
    "                       'labels': labels,\n",
    "                       'scores': scores_list\n",
    "                      }\n",
    "        bart_results_t.append(temp_result)\n",
    "    return bart_results_t"
   ]
  },
  {
   "cell_type": "code",
   "execution_count": 6,
   "id": "4ff75484",
   "metadata": {},
   "outputs": [],
   "source": [
    "bart_results_thresholded = keep_scores_above_threshold(bart_results, threshold=0.25)\n",
    "with open('BART_results_all_thresholded.pkl', 'wb') as f:\n",
    "    pickle.dump(bart_results_thresholded, f)"
   ]
  },
  {
   "cell_type": "code",
   "execution_count": 7,
   "id": "2431a232",
   "metadata": {},
   "outputs": [
    {
     "data": {
      "text/plain": [
       "sequence    0.000000\n",
       "labels      0.115869\n",
       "scores      0.115869\n",
       "dtype: float64"
      ]
     },
     "execution_count": 7,
     "metadata": {},
     "output_type": "execute_result"
    }
   ],
   "source": [
    "df = pd.DataFrame(bart_results_thresholded)\n",
    "df.isna().sum(0) / df.shape[0]"
   ]
  },
  {
   "cell_type": "markdown",
   "id": "31f320fd",
   "metadata": {},
   "source": [
    "# Combine BART Results with Original Data"
   ]
  },
  {
   "cell_type": "code",
   "execution_count": 40,
   "id": "4e52050e",
   "metadata": {},
   "outputs": [
    {
     "data": {
      "text/plain": [
       "True"
      ]
     },
     "execution_count": 40,
     "metadata": {},
     "output_type": "execute_result"
    }
   ],
   "source": [
    "a = pd.Series([1,2,3])\n",
    "b = pd.Series([1,2,3])\n",
    "\n",
    "(a == b).all()"
   ]
  },
  {
   "cell_type": "code",
   "execution_count": 8,
   "id": "e4f5eea1",
   "metadata": {},
   "outputs": [],
   "source": [
    "orig_data = pd.read_csv('./PatentView_Data/2020_h2_patents_processed.csv', header=0)\n",
    "\n",
    "def combine_results_orig_data(orig_data, results):\n",
    "    orig_col_names = ['patent_number', \n",
    "                     'patent_firstnamed_assignee_id', \n",
    "                     'patent_text']\n",
    "    orig_data.columns = orig_col_names\n",
    "    #orig_data['sequence'] = orig_data[['abstract', 'claim_1']].agg(' '.join, axis=1)\n",
    "    results = pd.DataFrame(results)\n",
    "    assert orig_data.shape[0] == len(results), 'orig_data and results not same length'\n",
    "    assert (orig_data.patent_text == results.sequence).all(), 'orig_data and results not aligned'\n",
    "    merged_data = pd.merge(left=orig_data, right=results, how='left', left_on='patent_text', right_on='sequence')\n",
    "    merged_data.drop('sequence', axis=1, inplace=True)\n",
    "    return merged_data"
   ]
  },
  {
   "cell_type": "code",
   "execution_count": 9,
   "id": "67d8b3df",
   "metadata": {
    "scrolled": false
   },
   "outputs": [
    {
     "data": {
      "text/html": [
       "<div>\n",
       "<style scoped>\n",
       "    .dataframe tbody tr th:only-of-type {\n",
       "        vertical-align: middle;\n",
       "    }\n",
       "\n",
       "    .dataframe tbody tr th {\n",
       "        vertical-align: top;\n",
       "    }\n",
       "\n",
       "    .dataframe thead th {\n",
       "        text-align: right;\n",
       "    }\n",
       "</style>\n",
       "<table border=\"1\" class=\"dataframe\">\n",
       "  <thead>\n",
       "    <tr style=\"text-align: right;\">\n",
       "      <th></th>\n",
       "      <th>patent_number</th>\n",
       "      <th>patent_firstnamed_assignee_id</th>\n",
       "      <th>patent_text</th>\n",
       "      <th>labels</th>\n",
       "      <th>scores</th>\n",
       "    </tr>\n",
       "  </thead>\n",
       "  <tbody>\n",
       "    <tr>\n",
       "      <th>0</th>\n",
       "      <td>10701852</td>\n",
       "      <td>fd9a9bee-58a0-43e6-8dc5-6bf1331edeb3</td>\n",
       "      <td>Automatic target recognition and management sy...</td>\n",
       "      <td>[Specialized Design Services, Business Support...</td>\n",
       "      <td>[0.3397502899169922, 0.3167252838611603, 0.312...</td>\n",
       "    </tr>\n",
       "    <tr>\n",
       "      <th>1</th>\n",
       "      <td>10701853</td>\n",
       "      <td>6db6e876-5207-4c9a-9421-d3ce7fe9992e</td>\n",
       "      <td>Agricultural trench depth systems, methods, an...</td>\n",
       "      <td>[Support Activities for Crop Production, Indus...</td>\n",
       "      <td>[0.44477155804634094, 0.3382902145385742, 0.30...</td>\n",
       "    </tr>\n",
       "    <tr>\n",
       "      <th>2</th>\n",
       "      <td>10701854</td>\n",
       "      <td>7eeec45c-d120-45e3-86d5-f4ebac9912a8</td>\n",
       "      <td>Agricultural implement with row unit leveling ...</td>\n",
       "      <td>[Traveler Accommodation, Travel Arrangement an...</td>\n",
       "      <td>[0.8478323221206665, 0.7196636199951172, 0.712...</td>\n",
       "    </tr>\n",
       "    <tr>\n",
       "      <th>3</th>\n",
       "      <td>10701855</td>\n",
       "      <td>f5866616-c4a1-4fad-81e6-0fb03a99c2c2</td>\n",
       "      <td>Folding implement with tractor assist A towed ...</td>\n",
       "      <td>[Motor Vehicle Manufacturing, Greenhouse, Nurs...</td>\n",
       "      <td>[0.4398001730442047, 0.4355512261390686, 0.387...</td>\n",
       "    </tr>\n",
       "    <tr>\n",
       "      <th>4</th>\n",
       "      <td>10701856</td>\n",
       "      <td>0f802b46-f7dd-48bc-a77e-6654f2e0e5f8</td>\n",
       "      <td>Agricultural implements for soil and vegetatio...</td>\n",
       "      <td>[Motor Vehicle Manufacturing]</td>\n",
       "      <td>[0.29373806715011597]</td>\n",
       "    </tr>\n",
       "  </tbody>\n",
       "</table>\n",
       "</div>"
      ],
      "text/plain": [
       "   patent_number         patent_firstnamed_assignee_id  \\\n",
       "0       10701852  fd9a9bee-58a0-43e6-8dc5-6bf1331edeb3   \n",
       "1       10701853  6db6e876-5207-4c9a-9421-d3ce7fe9992e   \n",
       "2       10701854  7eeec45c-d120-45e3-86d5-f4ebac9912a8   \n",
       "3       10701855  f5866616-c4a1-4fad-81e6-0fb03a99c2c2   \n",
       "4       10701856  0f802b46-f7dd-48bc-a77e-6654f2e0e5f8   \n",
       "\n",
       "                                         patent_text  \\\n",
       "0  Automatic target recognition and management sy...   \n",
       "1  Agricultural trench depth systems, methods, an...   \n",
       "2  Agricultural implement with row unit leveling ...   \n",
       "3  Folding implement with tractor assist A towed ...   \n",
       "4  Agricultural implements for soil and vegetatio...   \n",
       "\n",
       "                                              labels  \\\n",
       "0  [Specialized Design Services, Business Support...   \n",
       "1  [Support Activities for Crop Production, Indus...   \n",
       "2  [Traveler Accommodation, Travel Arrangement an...   \n",
       "3  [Motor Vehicle Manufacturing, Greenhouse, Nurs...   \n",
       "4                      [Motor Vehicle Manufacturing]   \n",
       "\n",
       "                                              scores  \n",
       "0  [0.3397502899169922, 0.3167252838611603, 0.312...  \n",
       "1  [0.44477155804634094, 0.3382902145385742, 0.30...  \n",
       "2  [0.8478323221206665, 0.7196636199951172, 0.712...  \n",
       "3  [0.4398001730442047, 0.4355512261390686, 0.387...  \n",
       "4                              [0.29373806715011597]  "
      ]
     },
     "execution_count": 9,
     "metadata": {},
     "output_type": "execute_result"
    }
   ],
   "source": [
    "first_N = 4000\n",
    "merged_results = combine_results_orig_data(orig_data.iloc[:first_N], bart_results_thresholded[:first_N])\n",
    "merged_results.head()"
   ]
  },
  {
   "cell_type": "code",
   "execution_count": 10,
   "id": "987f483f",
   "metadata": {},
   "outputs": [],
   "source": [
    "merged_results = combine_results_orig_data(orig_data, bart_results_thresholded)"
   ]
  },
  {
   "cell_type": "markdown",
   "id": "d0bc3ca2",
   "metadata": {},
   "source": [
    "# Add Assignee Information to DataFrame"
   ]
  },
  {
   "cell_type": "code",
   "execution_count": 12,
   "id": "5878c67e",
   "metadata": {},
   "outputs": [],
   "source": [
    "json_fn = './PatentView_Data/2020_h2_patents.json'\n",
    "with open(json_fn, 'rb') as f:\n",
    "    patent_data = json.load(f)"
   ]
  },
  {
   "cell_type": "code",
   "execution_count": 19,
   "id": "88c5cc4e",
   "metadata": {
    "scrolled": true
   },
   "outputs": [
    {
     "data": {
      "text/plain": [
       "[{'assignee_city': 'McLean',\n",
       "  'assignee_country': 'US',\n",
       "  'assignee_county': 'Fairfax',\n",
       "  'assignee_county_fips': '51059',\n",
       "  'assignee_first_name': None,\n",
       "  'assignee_first_seen_date': '1976-03-16',\n",
       "  'assignee_id': '6952680f-0895-493e-9003-7e31a5931d10',\n",
       "  'assignee_last_name': None,\n",
       "  'assignee_latitude': '38.9343',\n",
       "  'assignee_location_id': '38.9342888|-77.1776327',\n",
       "  'assignee_longitude': '-77.1776',\n",
       "  'assignee_organization': 'Mars, Incorporated',\n",
       "  'assignee_sequence': '0',\n",
       "  'assignee_state': 'VA',\n",
       "  'assignee_state_fips': '51',\n",
       "  'assignee_total_num_inventors': '1095',\n",
       "  'assignee_total_num_patents': '1106',\n",
       "  'assignee_type': '2',\n",
       "  'assignee_key_id': '634'}]"
      ]
     },
     "execution_count": 19,
     "metadata": {},
     "output_type": "execute_result"
    }
   ],
   "source": [
    "patent_data['assignees']['100']"
   ]
  },
  {
   "cell_type": "code",
   "execution_count": 20,
   "id": "76c4103d",
   "metadata": {},
   "outputs": [
    {
     "data": {
      "text/html": [
       "<div>\n",
       "<style scoped>\n",
       "    .dataframe tbody tr th:only-of-type {\n",
       "        vertical-align: middle;\n",
       "    }\n",
       "\n",
       "    .dataframe tbody tr th {\n",
       "        vertical-align: top;\n",
       "    }\n",
       "\n",
       "    .dataframe thead th {\n",
       "        text-align: right;\n",
       "    }\n",
       "</style>\n",
       "<table border=\"1\" class=\"dataframe\">\n",
       "  <thead>\n",
       "    <tr style=\"text-align: right;\">\n",
       "      <th></th>\n",
       "      <th>assignee_id</th>\n",
       "      <th>assignee_organization</th>\n",
       "      <th>assignee_latitude</th>\n",
       "      <th>assignee_longitude</th>\n",
       "      <th>assignee_city</th>\n",
       "      <th>assignee_state</th>\n",
       "      <th>assignee_country</th>\n",
       "      <th>assignee_type</th>\n",
       "    </tr>\n",
       "  </thead>\n",
       "  <tbody>\n",
       "    <tr>\n",
       "      <th>0</th>\n",
       "      <td>fd9a9bee-58a0-43e6-8dc5-6bf1331edeb3</td>\n",
       "      <td>The University of Sydney</td>\n",
       "      <td>-33.3843</td>\n",
       "      <td>148.01</td>\n",
       "      <td>Forbes</td>\n",
       "      <td>None</td>\n",
       "      <td>AU</td>\n",
       "      <td>3</td>\n",
       "    </tr>\n",
       "    <tr>\n",
       "      <th>1</th>\n",
       "      <td>6db6e876-5207-4c9a-9421-d3ce7fe9992e</td>\n",
       "      <td>Precision Planting LLC</td>\n",
       "      <td>40.5275</td>\n",
       "      <td>-89.4926</td>\n",
       "      <td>Tremont</td>\n",
       "      <td>IL</td>\n",
       "      <td>US</td>\n",
       "      <td>2</td>\n",
       "    </tr>\n",
       "    <tr>\n",
       "      <th>2</th>\n",
       "      <td>7eeec45c-d120-45e3-86d5-f4ebac9912a8</td>\n",
       "      <td>CNH Industrial America LLC</td>\n",
       "      <td>40.1018</td>\n",
       "      <td>-76.0852</td>\n",
       "      <td>New Holland</td>\n",
       "      <td>PA</td>\n",
       "      <td>US</td>\n",
       "      <td>2</td>\n",
       "    </tr>\n",
       "    <tr>\n",
       "      <th>3</th>\n",
       "      <td>f5866616-c4a1-4fad-81e6-0fb03a99c2c2</td>\n",
       "      <td>CNH Industrial Canada, Ltd.</td>\n",
       "      <td>52.1318</td>\n",
       "      <td>-106.661</td>\n",
       "      <td>Saskatoon</td>\n",
       "      <td>SK</td>\n",
       "      <td>CA</td>\n",
       "      <td>3</td>\n",
       "    </tr>\n",
       "    <tr>\n",
       "      <th>4</th>\n",
       "      <td>0f802b46-f7dd-48bc-a77e-6654f2e0e5f8</td>\n",
       "      <td>CLIMATE LLC</td>\n",
       "      <td>37.779</td>\n",
       "      <td>-122.42</td>\n",
       "      <td>San Francisco</td>\n",
       "      <td>CA</td>\n",
       "      <td>US</td>\n",
       "      <td>2</td>\n",
       "    </tr>\n",
       "  </tbody>\n",
       "</table>\n",
       "</div>"
      ],
      "text/plain": [
       "                            assignee_id        assignee_organization  \\\n",
       "0  fd9a9bee-58a0-43e6-8dc5-6bf1331edeb3     The University of Sydney   \n",
       "1  6db6e876-5207-4c9a-9421-d3ce7fe9992e       Precision Planting LLC   \n",
       "2  7eeec45c-d120-45e3-86d5-f4ebac9912a8   CNH Industrial America LLC   \n",
       "3  f5866616-c4a1-4fad-81e6-0fb03a99c2c2  CNH Industrial Canada, Ltd.   \n",
       "4  0f802b46-f7dd-48bc-a77e-6654f2e0e5f8                  CLIMATE LLC   \n",
       "\n",
       "  assignee_latitude assignee_longitude  assignee_city assignee_state  \\\n",
       "0          -33.3843             148.01         Forbes           None   \n",
       "1           40.5275           -89.4926        Tremont             IL   \n",
       "2           40.1018           -76.0852    New Holland             PA   \n",
       "3           52.1318           -106.661      Saskatoon             SK   \n",
       "4            37.779            -122.42  San Francisco             CA   \n",
       "\n",
       "  assignee_country assignee_type  \n",
       "0               AU             3  \n",
       "1               US             2  \n",
       "2               US             2  \n",
       "3               CA             3  \n",
       "4               US             2  "
      ]
     },
     "execution_count": 20,
     "metadata": {},
     "output_type": "execute_result"
    }
   ],
   "source": [
    "assignee_list = []\n",
    "assignee_cols = ['assignee_id',\n",
    "                 'assignee_organization',\n",
    "                 'assignee_latitude',\n",
    "                 'assignee_longitude',\n",
    "                 'assignee_city',\n",
    "                 'assignee_state',\n",
    "                 'assignee_country',\n",
    "                 'assignee_type'\n",
    "                ]\n",
    "assignees = patent_data['assignees']\n",
    "for assignee_idx in assignees:\n",
    "    assignee_temp_list = assignees[assignee_idx]\n",
    "    assignee_list.extend(assignee_temp_list)\n",
    "assignee_df = pd.DataFrame(assignee_list, columns = assignee_cols)\n",
    "assignee_df.drop_duplicates(subset='assignee_id', inplace=True)\n",
    "assignee_df.dropna(how='all', inplace=True)\n",
    "assignee_df.head()"
   ]
  },
  {
   "cell_type": "code",
   "execution_count": 22,
   "id": "2c18c989",
   "metadata": {},
   "outputs": [
    {
     "data": {
      "text/html": [
       "<div>\n",
       "<style scoped>\n",
       "    .dataframe tbody tr th:only-of-type {\n",
       "        vertical-align: middle;\n",
       "    }\n",
       "\n",
       "    .dataframe tbody tr th {\n",
       "        vertical-align: top;\n",
       "    }\n",
       "\n",
       "    .dataframe thead th {\n",
       "        text-align: right;\n",
       "    }\n",
       "</style>\n",
       "<table border=\"1\" class=\"dataframe\">\n",
       "  <thead>\n",
       "    <tr style=\"text-align: right;\">\n",
       "      <th></th>\n",
       "      <th>patent_number</th>\n",
       "      <th>patent_firstnamed_assignee_id</th>\n",
       "      <th>patent_text</th>\n",
       "      <th>labels</th>\n",
       "      <th>scores</th>\n",
       "      <th>assignee_organization</th>\n",
       "      <th>assignee_latitude</th>\n",
       "      <th>assignee_longitude</th>\n",
       "      <th>assignee_city</th>\n",
       "      <th>assignee_state</th>\n",
       "      <th>assignee_country</th>\n",
       "      <th>assignee_type</th>\n",
       "    </tr>\n",
       "  </thead>\n",
       "  <tbody>\n",
       "    <tr>\n",
       "      <th>0</th>\n",
       "      <td>10701852</td>\n",
       "      <td>fd9a9bee-58a0-43e6-8dc5-6bf1331edeb3</td>\n",
       "      <td>Automatic target recognition and management sy...</td>\n",
       "      <td>[Specialized Design Services, Business Support...</td>\n",
       "      <td>[0.3397502899169922, 0.3167252838611603, 0.312...</td>\n",
       "      <td>The University of Sydney</td>\n",
       "      <td>-33.3843</td>\n",
       "      <td>148.01</td>\n",
       "      <td>Forbes</td>\n",
       "      <td>None</td>\n",
       "      <td>AU</td>\n",
       "      <td>3</td>\n",
       "    </tr>\n",
       "    <tr>\n",
       "      <th>1</th>\n",
       "      <td>10701853</td>\n",
       "      <td>6db6e876-5207-4c9a-9421-d3ce7fe9992e</td>\n",
       "      <td>Agricultural trench depth systems, methods, an...</td>\n",
       "      <td>[Support Activities for Crop Production, Indus...</td>\n",
       "      <td>[0.44477155804634094, 0.3382902145385742, 0.30...</td>\n",
       "      <td>Precision Planting LLC</td>\n",
       "      <td>40.5275</td>\n",
       "      <td>-89.4926</td>\n",
       "      <td>Tremont</td>\n",
       "      <td>IL</td>\n",
       "      <td>US</td>\n",
       "      <td>2</td>\n",
       "    </tr>\n",
       "    <tr>\n",
       "      <th>2</th>\n",
       "      <td>10701854</td>\n",
       "      <td>7eeec45c-d120-45e3-86d5-f4ebac9912a8</td>\n",
       "      <td>Agricultural implement with row unit leveling ...</td>\n",
       "      <td>[Traveler Accommodation, Travel Arrangement an...</td>\n",
       "      <td>[0.8478323221206665, 0.7196636199951172, 0.712...</td>\n",
       "      <td>CNH Industrial America LLC</td>\n",
       "      <td>40.1018</td>\n",
       "      <td>-76.0852</td>\n",
       "      <td>New Holland</td>\n",
       "      <td>PA</td>\n",
       "      <td>US</td>\n",
       "      <td>2</td>\n",
       "    </tr>\n",
       "    <tr>\n",
       "      <th>3</th>\n",
       "      <td>10701855</td>\n",
       "      <td>f5866616-c4a1-4fad-81e6-0fb03a99c2c2</td>\n",
       "      <td>Folding implement with tractor assist A towed ...</td>\n",
       "      <td>[Motor Vehicle Manufacturing, Greenhouse, Nurs...</td>\n",
       "      <td>[0.4398001730442047, 0.4355512261390686, 0.387...</td>\n",
       "      <td>CNH Industrial Canada, Ltd.</td>\n",
       "      <td>52.1318</td>\n",
       "      <td>-106.661</td>\n",
       "      <td>Saskatoon</td>\n",
       "      <td>SK</td>\n",
       "      <td>CA</td>\n",
       "      <td>3</td>\n",
       "    </tr>\n",
       "    <tr>\n",
       "      <th>4</th>\n",
       "      <td>10701856</td>\n",
       "      <td>0f802b46-f7dd-48bc-a77e-6654f2e0e5f8</td>\n",
       "      <td>Agricultural implements for soil and vegetatio...</td>\n",
       "      <td>[Motor Vehicle Manufacturing]</td>\n",
       "      <td>[0.29373806715011597]</td>\n",
       "      <td>CLIMATE LLC</td>\n",
       "      <td>37.779</td>\n",
       "      <td>-122.42</td>\n",
       "      <td>San Francisco</td>\n",
       "      <td>CA</td>\n",
       "      <td>US</td>\n",
       "      <td>2</td>\n",
       "    </tr>\n",
       "  </tbody>\n",
       "</table>\n",
       "</div>"
      ],
      "text/plain": [
       "   patent_number         patent_firstnamed_assignee_id  \\\n",
       "0       10701852  fd9a9bee-58a0-43e6-8dc5-6bf1331edeb3   \n",
       "1       10701853  6db6e876-5207-4c9a-9421-d3ce7fe9992e   \n",
       "2       10701854  7eeec45c-d120-45e3-86d5-f4ebac9912a8   \n",
       "3       10701855  f5866616-c4a1-4fad-81e6-0fb03a99c2c2   \n",
       "4       10701856  0f802b46-f7dd-48bc-a77e-6654f2e0e5f8   \n",
       "\n",
       "                                         patent_text  \\\n",
       "0  Automatic target recognition and management sy...   \n",
       "1  Agricultural trench depth systems, methods, an...   \n",
       "2  Agricultural implement with row unit leveling ...   \n",
       "3  Folding implement with tractor assist A towed ...   \n",
       "4  Agricultural implements for soil and vegetatio...   \n",
       "\n",
       "                                              labels  \\\n",
       "0  [Specialized Design Services, Business Support...   \n",
       "1  [Support Activities for Crop Production, Indus...   \n",
       "2  [Traveler Accommodation, Travel Arrangement an...   \n",
       "3  [Motor Vehicle Manufacturing, Greenhouse, Nurs...   \n",
       "4                      [Motor Vehicle Manufacturing]   \n",
       "\n",
       "                                              scores  \\\n",
       "0  [0.3397502899169922, 0.3167252838611603, 0.312...   \n",
       "1  [0.44477155804634094, 0.3382902145385742, 0.30...   \n",
       "2  [0.8478323221206665, 0.7196636199951172, 0.712...   \n",
       "3  [0.4398001730442047, 0.4355512261390686, 0.387...   \n",
       "4                              [0.29373806715011597]   \n",
       "\n",
       "         assignee_organization assignee_latitude assignee_longitude  \\\n",
       "0     The University of Sydney          -33.3843             148.01   \n",
       "1       Precision Planting LLC           40.5275           -89.4926   \n",
       "2   CNH Industrial America LLC           40.1018           -76.0852   \n",
       "3  CNH Industrial Canada, Ltd.           52.1318           -106.661   \n",
       "4                  CLIMATE LLC            37.779            -122.42   \n",
       "\n",
       "   assignee_city assignee_state assignee_country assignee_type  \n",
       "0         Forbes           None               AU             3  \n",
       "1        Tremont             IL               US             2  \n",
       "2    New Holland             PA               US             2  \n",
       "3      Saskatoon             SK               CA             3  \n",
       "4  San Francisco             CA               US             2  "
      ]
     },
     "execution_count": 22,
     "metadata": {},
     "output_type": "execute_result"
    }
   ],
   "source": [
    "merged_data_w_assignees = pd.merge(left=merged_results, \n",
    "                                   right=assignee_df, \n",
    "                                   how='left',\n",
    "                                   left_on='patent_firstnamed_assignee_id',\n",
    "                                   right_on='assignee_id'\n",
    "                                  )\n",
    "merged_data_w_assignees.drop('assignee_id', axis=1,inplace=True)\n",
    "merged_data_w_assignees.head()"
   ]
  },
  {
   "cell_type": "code",
   "execution_count": 23,
   "id": "72c288b1",
   "metadata": {},
   "outputs": [],
   "source": [
    "merged_data_w_assignees.to_pickle('BART_predictions_w_text_and_assignee.pkl')\n",
    "merged_data_w_assignees.to_csv('BART_predictions_w_text_and_assignee.csv')"
   ]
  }
 ],
 "metadata": {
  "kernelspec": {
   "display_name": "Python 3 (ipykernel)",
   "language": "python",
   "name": "python3"
  },
  "language_info": {
   "codemirror_mode": {
    "name": "ipython",
    "version": 3
   },
   "file_extension": ".py",
   "mimetype": "text/x-python",
   "name": "python",
   "nbconvert_exporter": "python",
   "pygments_lexer": "ipython3",
   "version": "3.10.5"
  }
 },
 "nbformat": 4,
 "nbformat_minor": 5
}
